{
  "nbformat": 4,
  "nbformat_minor": 0,
  "metadata": {
    "colab": {
      "provenance": [],
      "authorship_tag": "ABX9TyNPdreNfn2RJsrvWi5CgM9Z",
      "include_colab_link": true
    },
    "kernelspec": {
      "name": "python3",
      "display_name": "Python 3"
    },
    "language_info": {
      "name": "python"
    }
  },
  "cells": [
    {
      "cell_type": "markdown",
      "metadata": {
        "id": "view-in-github",
        "colab_type": "text"
      },
      "source": [
        "<a href=\"https://colab.research.google.com/github/DharaniMohanachandran22/neural_networks/blob/main/Pytorch_Neural_Network.ipynb\" target=\"_parent\"><img src=\"https://colab.research.google.com/assets/colab-badge.svg\" alt=\"Open In Colab\"/></a>"
      ]
    },
    {
      "cell_type": "code",
      "execution_count": null,
      "metadata": {
        "id": "fySCDtljmyiY"
      },
      "outputs": [],
      "source": [
        "import torch\n",
        "import torchvision.datasets as datasets\n",
        "import torchvision.transforms as transforms\n",
        "import torch.nn as nn\n",
        "import torch.optim as optim"
      ]
    },
    {
      "cell_type": "code",
      "source": [
        "#it is preprocessing step.which used to convert the image size in the range of(0-255=>grey scale value) and we do normalisation(mean,standand)\n",
        "#it is a tupple so we want to give to value(but it need only one value)\n",
        "transform=transforms.Compose([transforms.ToTensor(),\n",
        "                              transforms.Normalize((0.1307,),(0.3081,))])"
      ],
      "metadata": {
        "id": "v4hFApcUn2PN"
      },
      "execution_count": null,
      "outputs": []
    },
    {
      "cell_type": "code",
      "source": [
        "#train-->if train is false it take the data as test data\n",
        "#download-->it downloaded the data from online\n",
        "#transform-->preprocessing assignment\n",
        "#'data'--> varible name\n",
        "train_dataset=datasets.MNIST(\"data\",\n",
        "                             train=True,\n",
        "                             download=True,transform=transform)"
      ],
      "metadata": {
        "id": "We4uOsAcqMmY"
      },
      "execution_count": null,
      "outputs": []
    },
    {
      "cell_type": "code",
      "source": [
        "train_loader=torch.utils.data.DataLoader(train_dataset,\n",
        "                                         batch_size=64,\n",
        "                                         shuffle=True)"
      ],
      "metadata": {
        "id": "wutNj0VDqdt9"
      },
      "execution_count": null,
      "outputs": []
    },
    {
      "cell_type": "code",
      "source": [
        "class Neural(nn.Module):\n",
        "  def __init__(self):\n",
        "    super(Neural,self).__init__()\n",
        "    self.fc1=nn.Linear(28*28,128)\n",
        "    self.fc2=nn.Linear(128,64)\n",
        "    self.fc3=nn.Linear(64,10)\n",
        "  def forward(self,x):\n",
        "    x=x.view(-1,28*28)\n",
        "    x=torch.relu(self.fc1(x))\n",
        "    x=torch.relu(self.fc2(x))\n",
        "    x=self.fc3(x)\n",
        "    return x\n",
        "net=Neural()\n"
      ],
      "metadata": {
        "id": "1tqFhTDpq51i"
      },
      "execution_count": null,
      "outputs": []
    },
    {
      "cell_type": "code",
      "source": [
        "criterion=nn.CrossEntropyLoss()\n",
        "optimizer=optim.SGD(net.parameters(),lr=0.01,momentum=0.5)"
      ],
      "metadata": {
        "id": "GE8jC0A4zAFI"
      },
      "execution_count": null,
      "outputs": []
    },
    {
      "cell_type": "code",
      "source": [
        "num_epochs=10\n",
        "for epoch in range(num_epochs):\n",
        "  for batch_idx,(data,target) in enumerate (train_loader):\n",
        "    optimizer.zero_grad()\n",
        "    output=net(data)\n",
        "    loss =criterion(output,target)\n",
        "    loss.backward()\n",
        "    optimizer.step()\n",
        "    if batch_idx % 100==0:\n",
        "      print('Train Epoch: {} [{}/{} ({:.0f}%)]\\tLoss: {:.6f}'.format(\n",
        "                epoch, batch_idx * len(data), len(train_loader.dataset),\n",
        "                100. * batch_idx / len(train_loader), loss.item()))"
      ],
      "metadata": {
        "colab": {
          "base_uri": "https://localhost:8080/"
        },
        "id": "idcvHq2E4K4-",
        "outputId": "6c8fea55-f660-4a4b-ec8d-7f619f257518"
      },
      "execution_count": null,
      "outputs": [
        {
          "output_type": "stream",
          "name": "stdout",
          "text": [
            "Train Epoch: 0 [0/60000 (0%)]\tLoss: 2.319403\n",
            "Train Epoch: 0 [6400/60000 (11%)]\tLoss: 1.366755\n",
            "Train Epoch: 0 [12800/60000 (21%)]\tLoss: 0.507323\n",
            "Train Epoch: 0 [19200/60000 (32%)]\tLoss: 0.493864\n",
            "Train Epoch: 0 [25600/60000 (43%)]\tLoss: 0.600001\n",
            "Train Epoch: 0 [32000/60000 (53%)]\tLoss: 0.311828\n",
            "Train Epoch: 0 [38400/60000 (64%)]\tLoss: 0.460439\n",
            "Train Epoch: 0 [44800/60000 (75%)]\tLoss: 0.352624\n",
            "Train Epoch: 0 [51200/60000 (85%)]\tLoss: 0.198674\n",
            "Train Epoch: 0 [57600/60000 (96%)]\tLoss: 0.303363\n",
            "Train Epoch: 1 [0/60000 (0%)]\tLoss: 0.276560\n",
            "Train Epoch: 1 [6400/60000 (11%)]\tLoss: 0.349057\n",
            "Train Epoch: 1 [12800/60000 (21%)]\tLoss: 0.182477\n",
            "Train Epoch: 1 [19200/60000 (32%)]\tLoss: 0.321881\n",
            "Train Epoch: 1 [25600/60000 (43%)]\tLoss: 0.223296\n",
            "Train Epoch: 1 [32000/60000 (53%)]\tLoss: 0.127258\n",
            "Train Epoch: 1 [38400/60000 (64%)]\tLoss: 0.186883\n",
            "Train Epoch: 1 [44800/60000 (75%)]\tLoss: 0.321746\n",
            "Train Epoch: 1 [51200/60000 (85%)]\tLoss: 0.161643\n",
            "Train Epoch: 1 [57600/60000 (96%)]\tLoss: 0.132109\n",
            "Train Epoch: 2 [0/60000 (0%)]\tLoss: 0.198676\n",
            "Train Epoch: 2 [6400/60000 (11%)]\tLoss: 0.223076\n",
            "Train Epoch: 2 [12800/60000 (21%)]\tLoss: 0.206292\n",
            "Train Epoch: 2 [19200/60000 (32%)]\tLoss: 0.255299\n",
            "Train Epoch: 2 [25600/60000 (43%)]\tLoss: 0.119173\n",
            "Train Epoch: 2 [32000/60000 (53%)]\tLoss: 0.196436\n",
            "Train Epoch: 2 [38400/60000 (64%)]\tLoss: 0.104311\n",
            "Train Epoch: 2 [44800/60000 (75%)]\tLoss: 0.206488\n",
            "Train Epoch: 2 [51200/60000 (85%)]\tLoss: 0.387690\n",
            "Train Epoch: 2 [57600/60000 (96%)]\tLoss: 0.142419\n",
            "Train Epoch: 3 [0/60000 (0%)]\tLoss: 0.187290\n",
            "Train Epoch: 3 [6400/60000 (11%)]\tLoss: 0.222883\n",
            "Train Epoch: 3 [12800/60000 (21%)]\tLoss: 0.159460\n",
            "Train Epoch: 3 [19200/60000 (32%)]\tLoss: 0.112076\n",
            "Train Epoch: 3 [25600/60000 (43%)]\tLoss: 0.203208\n",
            "Train Epoch: 3 [32000/60000 (53%)]\tLoss: 0.160193\n",
            "Train Epoch: 3 [38400/60000 (64%)]\tLoss: 0.205749\n",
            "Train Epoch: 3 [44800/60000 (75%)]\tLoss: 0.145183\n",
            "Train Epoch: 3 [51200/60000 (85%)]\tLoss: 0.214943\n",
            "Train Epoch: 3 [57600/60000 (96%)]\tLoss: 0.118866\n",
            "Train Epoch: 4 [0/60000 (0%)]\tLoss: 0.177604\n",
            "Train Epoch: 4 [6400/60000 (11%)]\tLoss: 0.054919\n",
            "Train Epoch: 4 [12800/60000 (21%)]\tLoss: 0.096098\n",
            "Train Epoch: 4 [19200/60000 (32%)]\tLoss: 0.053875\n",
            "Train Epoch: 4 [25600/60000 (43%)]\tLoss: 0.161844\n",
            "Train Epoch: 4 [32000/60000 (53%)]\tLoss: 0.099947\n",
            "Train Epoch: 4 [38400/60000 (64%)]\tLoss: 0.299826\n",
            "Train Epoch: 4 [44800/60000 (75%)]\tLoss: 0.105783\n",
            "Train Epoch: 4 [51200/60000 (85%)]\tLoss: 0.096086\n",
            "Train Epoch: 4 [57600/60000 (96%)]\tLoss: 0.035692\n",
            "Train Epoch: 5 [0/60000 (0%)]\tLoss: 0.074935\n",
            "Train Epoch: 5 [6400/60000 (11%)]\tLoss: 0.091857\n",
            "Train Epoch: 5 [12800/60000 (21%)]\tLoss: 0.042366\n",
            "Train Epoch: 5 [19200/60000 (32%)]\tLoss: 0.135041\n",
            "Train Epoch: 5 [25600/60000 (43%)]\tLoss: 0.084432\n",
            "Train Epoch: 5 [32000/60000 (53%)]\tLoss: 0.039867\n",
            "Train Epoch: 5 [38400/60000 (64%)]\tLoss: 0.096308\n",
            "Train Epoch: 5 [44800/60000 (75%)]\tLoss: 0.056365\n",
            "Train Epoch: 5 [51200/60000 (85%)]\tLoss: 0.067896\n",
            "Train Epoch: 5 [57600/60000 (96%)]\tLoss: 0.111192\n",
            "Train Epoch: 6 [0/60000 (0%)]\tLoss: 0.132345\n",
            "Train Epoch: 6 [6400/60000 (11%)]\tLoss: 0.077831\n",
            "Train Epoch: 6 [12800/60000 (21%)]\tLoss: 0.031938\n",
            "Train Epoch: 6 [19200/60000 (32%)]\tLoss: 0.051723\n",
            "Train Epoch: 6 [25600/60000 (43%)]\tLoss: 0.130793\n",
            "Train Epoch: 6 [32000/60000 (53%)]\tLoss: 0.062665\n",
            "Train Epoch: 6 [38400/60000 (64%)]\tLoss: 0.128807\n",
            "Train Epoch: 6 [44800/60000 (75%)]\tLoss: 0.060328\n",
            "Train Epoch: 6 [51200/60000 (85%)]\tLoss: 0.198787\n",
            "Train Epoch: 6 [57600/60000 (96%)]\tLoss: 0.180010\n",
            "Train Epoch: 7 [0/60000 (0%)]\tLoss: 0.133516\n",
            "Train Epoch: 7 [6400/60000 (11%)]\tLoss: 0.123523\n",
            "Train Epoch: 7 [12800/60000 (21%)]\tLoss: 0.060209\n",
            "Train Epoch: 7 [19200/60000 (32%)]\tLoss: 0.208355\n",
            "Train Epoch: 7 [25600/60000 (43%)]\tLoss: 0.138927\n",
            "Train Epoch: 7 [32000/60000 (53%)]\tLoss: 0.114821\n",
            "Train Epoch: 7 [38400/60000 (64%)]\tLoss: 0.146391\n",
            "Train Epoch: 7 [44800/60000 (75%)]\tLoss: 0.047304\n",
            "Train Epoch: 7 [51200/60000 (85%)]\tLoss: 0.203456\n",
            "Train Epoch: 7 [57600/60000 (96%)]\tLoss: 0.078367\n",
            "Train Epoch: 8 [0/60000 (0%)]\tLoss: 0.061542\n",
            "Train Epoch: 8 [6400/60000 (11%)]\tLoss: 0.033431\n",
            "Train Epoch: 8 [12800/60000 (21%)]\tLoss: 0.098682\n",
            "Train Epoch: 8 [19200/60000 (32%)]\tLoss: 0.019640\n",
            "Train Epoch: 8 [25600/60000 (43%)]\tLoss: 0.076696\n",
            "Train Epoch: 8 [32000/60000 (53%)]\tLoss: 0.033704\n",
            "Train Epoch: 8 [38400/60000 (64%)]\tLoss: 0.035530\n",
            "Train Epoch: 8 [44800/60000 (75%)]\tLoss: 0.011586\n",
            "Train Epoch: 8 [51200/60000 (85%)]\tLoss: 0.025622\n",
            "Train Epoch: 8 [57600/60000 (96%)]\tLoss: 0.084722\n",
            "Train Epoch: 9 [0/60000 (0%)]\tLoss: 0.023585\n",
            "Train Epoch: 9 [6400/60000 (11%)]\tLoss: 0.030973\n",
            "Train Epoch: 9 [12800/60000 (21%)]\tLoss: 0.073588\n",
            "Train Epoch: 9 [19200/60000 (32%)]\tLoss: 0.030602\n",
            "Train Epoch: 9 [25600/60000 (43%)]\tLoss: 0.120616\n",
            "Train Epoch: 9 [32000/60000 (53%)]\tLoss: 0.066721\n",
            "Train Epoch: 9 [38400/60000 (64%)]\tLoss: 0.101238\n",
            "Train Epoch: 9 [44800/60000 (75%)]\tLoss: 0.021859\n",
            "Train Epoch: 9 [51200/60000 (85%)]\tLoss: 0.044810\n",
            "Train Epoch: 9 [57600/60000 (96%)]\tLoss: 0.086462\n"
          ]
        }
      ]
    },
    {
      "cell_type": "code",
      "source": [
        "test_dataset=datasets.MNIST('data',train=False,download=True,transform=transform)\n",
        "test_loader=torch.utils.data.DataLoader(test_dataset,batch_size=1000,shuffle=True)\n",
        "correct=0\n",
        "total=0\n",
        "with torch.no_grad():\n",
        "  output=net(data)\n",
        "  _,predicted=torch.max(output.data,1)\n",
        "  total+=target.size(0)\n",
        "  correct+=(predicted==target).sum().item()\n"
      ],
      "metadata": {
        "id": "zAo5G5IC4a6_"
      },
      "execution_count": null,
      "outputs": []
    },
    {
      "cell_type": "code",
      "source": [
        "print('Accuracy of the network on the 10000 test images: %d %%' % (\n",
        "    100 * correct / total))\n"
      ],
      "metadata": {
        "colab": {
          "base_uri": "https://localhost:8080/"
        },
        "id": "0NNHcGU-4c72",
        "outputId": "e1100c3f-0f1a-4058-a8cd-3823e9bfe4a2"
      },
      "execution_count": null,
      "outputs": [
        {
          "output_type": "stream",
          "name": "stdout",
          "text": [
            "Accuracy of the network on the 10000 test images: 15 %\n"
          ]
        }
      ]
    }
  ]
}