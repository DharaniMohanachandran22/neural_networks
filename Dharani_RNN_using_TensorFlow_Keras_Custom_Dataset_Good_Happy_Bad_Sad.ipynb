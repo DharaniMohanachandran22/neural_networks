{
  "nbformat": 4,
  "nbformat_minor": 0,
  "metadata": {
    "colab": {
      "provenance": [],
      "include_colab_link": true
    },
    "kernelspec": {
      "name": "python3",
      "display_name": "Python 3"
    },
    "language_info": {
      "name": "python"
    }
  },
  "cells": [
    {
      "cell_type": "markdown",
      "metadata": {
        "id": "view-in-github",
        "colab_type": "text"
      },
      "source": [
        "<a href=\"https://colab.research.google.com/github/DharaniMohanachandran22/neural_networks/blob/main/Dharani_RNN_using_TensorFlow_Keras_Custom_Dataset_Good_Happy_Bad_Sad.ipynb\" target=\"_parent\"><img src=\"https://colab.research.google.com/assets/colab-badge.svg\" alt=\"Open In Colab\"/></a>"
      ]
    },
    {
      "cell_type": "code",
      "source": [
        "import pandas as pd\n",
        "import numpy as np"
      ],
      "metadata": {
        "id": "RlKaxZ2xBmBG"
      },
      "execution_count": null,
      "outputs": []
    },
    {
      "cell_type": "code",
      "source": [
        "train=pd.read_csv(\"https://raw.githubusercontent.com/soaicbe/ml/master/spam.csv\")\n",
        "train"
      ],
      "metadata": {
        "colab": {
          "base_uri": "https://localhost:8080/",
          "height": 423
        },
        "id": "HPyA21N5B3FU",
        "outputId": "3bca4062-9d1b-4052-8585-0da1b80a3bd3"
      },
      "execution_count": null,
      "outputs": [
        {
          "output_type": "execute_result",
          "data": {
            "text/plain": [
              "     Category                                            Message\n",
              "0         ham  Go until jurong point, crazy.. Available only ...\n",
              "1         ham                      Ok lar... Joking wif u oni...\n",
              "2        spam  Free entry in 2 a wkly comp to win FA Cup fina...\n",
              "3         ham  U dun say so early hor... U c already then say...\n",
              "4         ham  Nah I don't think he goes to usf, he lives aro...\n",
              "...       ...                                                ...\n",
              "5567     spam  This is the 2nd time we have tried 2 contact u...\n",
              "5568      ham               Will ü b going to esplanade fr home?\n",
              "5569      ham  Pity, * was in mood for that. So...any other s...\n",
              "5570      ham  The guy did some bitching but I acted like i'd...\n",
              "5571      ham                         Rofl. Its true to its name\n",
              "\n",
              "[5572 rows x 2 columns]"
            ],
            "text/html": [
              "\n",
              "  <div id=\"df-561fffaf-1615-43e7-a569-1fd2af79fe8f\" class=\"colab-df-container\">\n",
              "    <div>\n",
              "<style scoped>\n",
              "    .dataframe tbody tr th:only-of-type {\n",
              "        vertical-align: middle;\n",
              "    }\n",
              "\n",
              "    .dataframe tbody tr th {\n",
              "        vertical-align: top;\n",
              "    }\n",
              "\n",
              "    .dataframe thead th {\n",
              "        text-align: right;\n",
              "    }\n",
              "</style>\n",
              "<table border=\"1\" class=\"dataframe\">\n",
              "  <thead>\n",
              "    <tr style=\"text-align: right;\">\n",
              "      <th></th>\n",
              "      <th>Category</th>\n",
              "      <th>Message</th>\n",
              "    </tr>\n",
              "  </thead>\n",
              "  <tbody>\n",
              "    <tr>\n",
              "      <th>0</th>\n",
              "      <td>ham</td>\n",
              "      <td>Go until jurong point, crazy.. Available only ...</td>\n",
              "    </tr>\n",
              "    <tr>\n",
              "      <th>1</th>\n",
              "      <td>ham</td>\n",
              "      <td>Ok lar... Joking wif u oni...</td>\n",
              "    </tr>\n",
              "    <tr>\n",
              "      <th>2</th>\n",
              "      <td>spam</td>\n",
              "      <td>Free entry in 2 a wkly comp to win FA Cup fina...</td>\n",
              "    </tr>\n",
              "    <tr>\n",
              "      <th>3</th>\n",
              "      <td>ham</td>\n",
              "      <td>U dun say so early hor... U c already then say...</td>\n",
              "    </tr>\n",
              "    <tr>\n",
              "      <th>4</th>\n",
              "      <td>ham</td>\n",
              "      <td>Nah I don't think he goes to usf, he lives aro...</td>\n",
              "    </tr>\n",
              "    <tr>\n",
              "      <th>...</th>\n",
              "      <td>...</td>\n",
              "      <td>...</td>\n",
              "    </tr>\n",
              "    <tr>\n",
              "      <th>5567</th>\n",
              "      <td>spam</td>\n",
              "      <td>This is the 2nd time we have tried 2 contact u...</td>\n",
              "    </tr>\n",
              "    <tr>\n",
              "      <th>5568</th>\n",
              "      <td>ham</td>\n",
              "      <td>Will ü b going to esplanade fr home?</td>\n",
              "    </tr>\n",
              "    <tr>\n",
              "      <th>5569</th>\n",
              "      <td>ham</td>\n",
              "      <td>Pity, * was in mood for that. So...any other s...</td>\n",
              "    </tr>\n",
              "    <tr>\n",
              "      <th>5570</th>\n",
              "      <td>ham</td>\n",
              "      <td>The guy did some bitching but I acted like i'd...</td>\n",
              "    </tr>\n",
              "    <tr>\n",
              "      <th>5571</th>\n",
              "      <td>ham</td>\n",
              "      <td>Rofl. Its true to its name</td>\n",
              "    </tr>\n",
              "  </tbody>\n",
              "</table>\n",
              "<p>5572 rows × 2 columns</p>\n",
              "</div>\n",
              "    <div class=\"colab-df-buttons\">\n",
              "\n",
              "  <div class=\"colab-df-container\">\n",
              "    <button class=\"colab-df-convert\" onclick=\"convertToInteractive('df-561fffaf-1615-43e7-a569-1fd2af79fe8f')\"\n",
              "            title=\"Convert this dataframe to an interactive table.\"\n",
              "            style=\"display:none;\">\n",
              "\n",
              "  <svg xmlns=\"http://www.w3.org/2000/svg\" height=\"24px\" viewBox=\"0 -960 960 960\">\n",
              "    <path d=\"M120-120v-720h720v720H120Zm60-500h600v-160H180v160Zm220 220h160v-160H400v160Zm0 220h160v-160H400v160ZM180-400h160v-160H180v160Zm440 0h160v-160H620v160ZM180-180h160v-160H180v160Zm440 0h160v-160H620v160Z\"/>\n",
              "  </svg>\n",
              "    </button>\n",
              "\n",
              "  <style>\n",
              "    .colab-df-container {\n",
              "      display:flex;\n",
              "      gap: 12px;\n",
              "    }\n",
              "\n",
              "    .colab-df-convert {\n",
              "      background-color: #E8F0FE;\n",
              "      border: none;\n",
              "      border-radius: 50%;\n",
              "      cursor: pointer;\n",
              "      display: none;\n",
              "      fill: #1967D2;\n",
              "      height: 32px;\n",
              "      padding: 0 0 0 0;\n",
              "      width: 32px;\n",
              "    }\n",
              "\n",
              "    .colab-df-convert:hover {\n",
              "      background-color: #E2EBFA;\n",
              "      box-shadow: 0px 1px 2px rgba(60, 64, 67, 0.3), 0px 1px 3px 1px rgba(60, 64, 67, 0.15);\n",
              "      fill: #174EA6;\n",
              "    }\n",
              "\n",
              "    .colab-df-buttons div {\n",
              "      margin-bottom: 4px;\n",
              "    }\n",
              "\n",
              "    [theme=dark] .colab-df-convert {\n",
              "      background-color: #3B4455;\n",
              "      fill: #D2E3FC;\n",
              "    }\n",
              "\n",
              "    [theme=dark] .colab-df-convert:hover {\n",
              "      background-color: #434B5C;\n",
              "      box-shadow: 0px 1px 3px 1px rgba(0, 0, 0, 0.15);\n",
              "      filter: drop-shadow(0px 1px 2px rgba(0, 0, 0, 0.3));\n",
              "      fill: #FFFFFF;\n",
              "    }\n",
              "  </style>\n",
              "\n",
              "    <script>\n",
              "      const buttonEl =\n",
              "        document.querySelector('#df-561fffaf-1615-43e7-a569-1fd2af79fe8f button.colab-df-convert');\n",
              "      buttonEl.style.display =\n",
              "        google.colab.kernel.accessAllowed ? 'block' : 'none';\n",
              "\n",
              "      async function convertToInteractive(key) {\n",
              "        const element = document.querySelector('#df-561fffaf-1615-43e7-a569-1fd2af79fe8f');\n",
              "        const dataTable =\n",
              "          await google.colab.kernel.invokeFunction('convertToInteractive',\n",
              "                                                    [key], {});\n",
              "        if (!dataTable) return;\n",
              "\n",
              "        const docLinkHtml = 'Like what you see? Visit the ' +\n",
              "          '<a target=\"_blank\" href=https://colab.research.google.com/notebooks/data_table.ipynb>data table notebook</a>'\n",
              "          + ' to learn more about interactive tables.';\n",
              "        element.innerHTML = '';\n",
              "        dataTable['output_type'] = 'display_data';\n",
              "        await google.colab.output.renderOutput(dataTable, element);\n",
              "        const docLink = document.createElement('div');\n",
              "        docLink.innerHTML = docLinkHtml;\n",
              "        element.appendChild(docLink);\n",
              "      }\n",
              "    </script>\n",
              "  </div>\n",
              "\n",
              "\n",
              "<div id=\"df-52e0acf0-c065-4550-a668-1a8fbbde7ccd\">\n",
              "  <button class=\"colab-df-quickchart\" onclick=\"quickchart('df-52e0acf0-c065-4550-a668-1a8fbbde7ccd')\"\n",
              "            title=\"Suggest charts\"\n",
              "            style=\"display:none;\">\n",
              "\n",
              "<svg xmlns=\"http://www.w3.org/2000/svg\" height=\"24px\"viewBox=\"0 0 24 24\"\n",
              "     width=\"24px\">\n",
              "    <g>\n",
              "        <path d=\"M19 3H5c-1.1 0-2 .9-2 2v14c0 1.1.9 2 2 2h14c1.1 0 2-.9 2-2V5c0-1.1-.9-2-2-2zM9 17H7v-7h2v7zm4 0h-2V7h2v10zm4 0h-2v-4h2v4z\"/>\n",
              "    </g>\n",
              "</svg>\n",
              "  </button>\n",
              "\n",
              "<style>\n",
              "  .colab-df-quickchart {\n",
              "      --bg-color: #E8F0FE;\n",
              "      --fill-color: #1967D2;\n",
              "      --hover-bg-color: #E2EBFA;\n",
              "      --hover-fill-color: #174EA6;\n",
              "      --disabled-fill-color: #AAA;\n",
              "      --disabled-bg-color: #DDD;\n",
              "  }\n",
              "\n",
              "  [theme=dark] .colab-df-quickchart {\n",
              "      --bg-color: #3B4455;\n",
              "      --fill-color: #D2E3FC;\n",
              "      --hover-bg-color: #434B5C;\n",
              "      --hover-fill-color: #FFFFFF;\n",
              "      --disabled-bg-color: #3B4455;\n",
              "      --disabled-fill-color: #666;\n",
              "  }\n",
              "\n",
              "  .colab-df-quickchart {\n",
              "    background-color: var(--bg-color);\n",
              "    border: none;\n",
              "    border-radius: 50%;\n",
              "    cursor: pointer;\n",
              "    display: none;\n",
              "    fill: var(--fill-color);\n",
              "    height: 32px;\n",
              "    padding: 0;\n",
              "    width: 32px;\n",
              "  }\n",
              "\n",
              "  .colab-df-quickchart:hover {\n",
              "    background-color: var(--hover-bg-color);\n",
              "    box-shadow: 0 1px 2px rgba(60, 64, 67, 0.3), 0 1px 3px 1px rgba(60, 64, 67, 0.15);\n",
              "    fill: var(--button-hover-fill-color);\n",
              "  }\n",
              "\n",
              "  .colab-df-quickchart-complete:disabled,\n",
              "  .colab-df-quickchart-complete:disabled:hover {\n",
              "    background-color: var(--disabled-bg-color);\n",
              "    fill: var(--disabled-fill-color);\n",
              "    box-shadow: none;\n",
              "  }\n",
              "\n",
              "  .colab-df-spinner {\n",
              "    border: 2px solid var(--fill-color);\n",
              "    border-color: transparent;\n",
              "    border-bottom-color: var(--fill-color);\n",
              "    animation:\n",
              "      spin 1s steps(1) infinite;\n",
              "  }\n",
              "\n",
              "  @keyframes spin {\n",
              "    0% {\n",
              "      border-color: transparent;\n",
              "      border-bottom-color: var(--fill-color);\n",
              "      border-left-color: var(--fill-color);\n",
              "    }\n",
              "    20% {\n",
              "      border-color: transparent;\n",
              "      border-left-color: var(--fill-color);\n",
              "      border-top-color: var(--fill-color);\n",
              "    }\n",
              "    30% {\n",
              "      border-color: transparent;\n",
              "      border-left-color: var(--fill-color);\n",
              "      border-top-color: var(--fill-color);\n",
              "      border-right-color: var(--fill-color);\n",
              "    }\n",
              "    40% {\n",
              "      border-color: transparent;\n",
              "      border-right-color: var(--fill-color);\n",
              "      border-top-color: var(--fill-color);\n",
              "    }\n",
              "    60% {\n",
              "      border-color: transparent;\n",
              "      border-right-color: var(--fill-color);\n",
              "    }\n",
              "    80% {\n",
              "      border-color: transparent;\n",
              "      border-right-color: var(--fill-color);\n",
              "      border-bottom-color: var(--fill-color);\n",
              "    }\n",
              "    90% {\n",
              "      border-color: transparent;\n",
              "      border-bottom-color: var(--fill-color);\n",
              "    }\n",
              "  }\n",
              "</style>\n",
              "\n",
              "  <script>\n",
              "    async function quickchart(key) {\n",
              "      const quickchartButtonEl =\n",
              "        document.querySelector('#' + key + ' button');\n",
              "      quickchartButtonEl.disabled = true;  // To prevent multiple clicks.\n",
              "      quickchartButtonEl.classList.add('colab-df-spinner');\n",
              "      try {\n",
              "        const charts = await google.colab.kernel.invokeFunction(\n",
              "            'suggestCharts', [key], {});\n",
              "      } catch (error) {\n",
              "        console.error('Error during call to suggestCharts:', error);\n",
              "      }\n",
              "      quickchartButtonEl.classList.remove('colab-df-spinner');\n",
              "      quickchartButtonEl.classList.add('colab-df-quickchart-complete');\n",
              "    }\n",
              "    (() => {\n",
              "      let quickchartButtonEl =\n",
              "        document.querySelector('#df-52e0acf0-c065-4550-a668-1a8fbbde7ccd button');\n",
              "      quickchartButtonEl.style.display =\n",
              "        google.colab.kernel.accessAllowed ? 'block' : 'none';\n",
              "    })();\n",
              "  </script>\n",
              "</div>\n",
              "\n",
              "  <div id=\"id_53c78b67-939e-4641-8f29-ca4685d95ea7\">\n",
              "    <style>\n",
              "      .colab-df-generate {\n",
              "        background-color: #E8F0FE;\n",
              "        border: none;\n",
              "        border-radius: 50%;\n",
              "        cursor: pointer;\n",
              "        display: none;\n",
              "        fill: #1967D2;\n",
              "        height: 32px;\n",
              "        padding: 0 0 0 0;\n",
              "        width: 32px;\n",
              "      }\n",
              "\n",
              "      .colab-df-generate:hover {\n",
              "        background-color: #E2EBFA;\n",
              "        box-shadow: 0px 1px 2px rgba(60, 64, 67, 0.3), 0px 1px 3px 1px rgba(60, 64, 67, 0.15);\n",
              "        fill: #174EA6;\n",
              "      }\n",
              "\n",
              "      [theme=dark] .colab-df-generate {\n",
              "        background-color: #3B4455;\n",
              "        fill: #D2E3FC;\n",
              "      }\n",
              "\n",
              "      [theme=dark] .colab-df-generate:hover {\n",
              "        background-color: #434B5C;\n",
              "        box-shadow: 0px 1px 3px 1px rgba(0, 0, 0, 0.15);\n",
              "        filter: drop-shadow(0px 1px 2px rgba(0, 0, 0, 0.3));\n",
              "        fill: #FFFFFF;\n",
              "      }\n",
              "    </style>\n",
              "    <button class=\"colab-df-generate\" onclick=\"generateWithVariable('train')\"\n",
              "            title=\"Generate code using this dataframe.\"\n",
              "            style=\"display:none;\">\n",
              "\n",
              "  <svg xmlns=\"http://www.w3.org/2000/svg\" height=\"24px\"viewBox=\"0 0 24 24\"\n",
              "       width=\"24px\">\n",
              "    <path d=\"M7,19H8.4L18.45,9,17,7.55,7,17.6ZM5,21V16.75L18.45,3.32a2,2,0,0,1,2.83,0l1.4,1.43a1.91,1.91,0,0,1,.58,1.4,1.91,1.91,0,0,1-.58,1.4L9.25,21ZM18.45,9,17,7.55Zm-12,3A5.31,5.31,0,0,0,4.9,8.1,5.31,5.31,0,0,0,1,6.5,5.31,5.31,0,0,0,4.9,4.9,5.31,5.31,0,0,0,6.5,1,5.31,5.31,0,0,0,8.1,4.9,5.31,5.31,0,0,0,12,6.5,5.46,5.46,0,0,0,6.5,12Z\"/>\n",
              "  </svg>\n",
              "    </button>\n",
              "    <script>\n",
              "      (() => {\n",
              "      const buttonEl =\n",
              "        document.querySelector('#id_53c78b67-939e-4641-8f29-ca4685d95ea7 button.colab-df-generate');\n",
              "      buttonEl.style.display =\n",
              "        google.colab.kernel.accessAllowed ? 'block' : 'none';\n",
              "\n",
              "      buttonEl.onclick = () => {\n",
              "        google.colab.notebook.generateWithVariable('train');\n",
              "      }\n",
              "      })();\n",
              "    </script>\n",
              "  </div>\n",
              "\n",
              "    </div>\n",
              "  </div>\n"
            ]
          },
          "metadata": {},
          "execution_count": 7
        }
      ]
    },
    {
      "cell_type": "code",
      "metadata": {
        "id": "wF04_7C_kTlo"
      },
      "source": [
        "from sklearn.model_selection import train_test_split\n",
        "X=train['Message']\n",
        "y=train['Category']\n",
        "X_train,X_test,y_train,y_test=train_test_split(X,y,test_size=0.3)"
      ],
      "execution_count": null,
      "outputs": []
    },
    {
      "cell_type": "code",
      "source": [
        "X_train=X_train.to_list()\n",
        "y_train=y_train.to_list()\n",
        "X_test=X_test.to_list()\n",
        "y_test=y_test.to_list()"
      ],
      "metadata": {
        "id": "zr2ksiimSXoF"
      },
      "execution_count": null,
      "outputs": []
    },
    {
      "cell_type": "code",
      "source": [
        "X_train"
      ],
      "metadata": {
        "id": "LykMtOzgScah"
      },
      "execution_count": null,
      "outputs": []
    },
    {
      "cell_type": "code",
      "source": [
        "for i in range (len(y_train)):\n",
        "  if y_train[i]=='spam':\n",
        "    y_train[i]=0\n",
        "  else:\n",
        "    y_train[i]=1"
      ],
      "metadata": {
        "id": "9pwbzpwwSe7n"
      },
      "execution_count": null,
      "outputs": []
    },
    {
      "cell_type": "code",
      "source": [
        "y_train"
      ],
      "metadata": {
        "id": "ybMRD10VShhV"
      },
      "execution_count": null,
      "outputs": []
    },
    {
      "cell_type": "code",
      "source": [
        "from tensorflow.keras.models import Sequential\n",
        "from tensorflow.keras import Input\n",
        "\n",
        "model = Sequential()\n",
        "model.add(Input(shape=(1,), dtype=\"string\"))"
      ],
      "metadata": {
        "id": "Y-mAXO4BSksS"
      },
      "execution_count": null,
      "outputs": []
    },
    {
      "cell_type": "code",
      "source": [
        "from tensorflow.keras.layers.experimental.preprocessing import TextVectorization\n",
        "\n",
        "max_tokens = 2000\n",
        "max_len = 5\n",
        "vectorize_layer = TextVectorization(\n",
        "  # Max vocab size. Any words outside of the max_tokens most common ones\n",
        "  # will be treated the same way: as \"out of vocabulary\" (OOV) tokens.\n",
        "  max_tokens=max_tokens,\n",
        "  # Output integer indices, one per string token\n",
        "  output_mode=\"int\",\n",
        "  # Always pad or truncate to exactly this many tokens\n",
        "  output_sequence_length=max_len,\n",
        ")"
      ],
      "metadata": {
        "id": "WruGdjGgSnUK"
      },
      "execution_count": null,
      "outputs": []
    },
    {
      "cell_type": "code",
      "source": [
        "vectorize_layer.adapt(X_train)"
      ],
      "metadata": {
        "id": "4ieNY2zISqci"
      },
      "execution_count": null,
      "outputs": []
    },
    {
      "cell_type": "code",
      "source": [
        "reverse_word_index = vectorize_layer.get_vocabulary()\n",
        "reverse_word_index"
      ],
      "metadata": {
        "id": "g3oPm42uSsY3"
      },
      "execution_count": null,
      "outputs": []
    },
    {
      "cell_type": "code",
      "source": [
        "vectorize_layer.get_weights()"
      ],
      "metadata": {
        "colab": {
          "base_uri": "https://localhost:8080/"
        },
        "id": "wYEQefChSu3S",
        "outputId": "33636d28-70a6-4edd-ef0f-1223a4e8dffd"
      },
      "execution_count": null,
      "outputs": [
        {
          "output_type": "execute_result",
          "data": {
            "text/plain": [
              "[array([b'to', b'i', b'you', ..., b'instructions', b'instantly',\n",
              "        b'infowww100percentrealcom'], dtype=object)]"
            ]
          },
          "metadata": {},
          "execution_count": 17
        }
      ]
    },
    {
      "cell_type": "code",
      "source": [
        "model.add(vectorize_layer)"
      ],
      "metadata": {
        "id": "4mLZ93iKSww-"
      },
      "execution_count": null,
      "outputs": []
    },
    {
      "cell_type": "code",
      "source": [
        "model.summary()"
      ],
      "metadata": {
        "colab": {
          "base_uri": "https://localhost:8080/"
        },
        "id": "78-1_7ElSxqr",
        "outputId": "4bee65fc-49a2-4630-e3ab-2e1132c2231e"
      },
      "execution_count": null,
      "outputs": [
        {
          "output_type": "stream",
          "name": "stdout",
          "text": [
            "Model: \"sequential\"\n",
            "_________________________________________________________________\n",
            " Layer (type)                Output Shape              Param #   \n",
            "=================================================================\n",
            " text_vectorization (TextVe  (None, 5)                 0         \n",
            " ctorization)                                                    \n",
            "                                                                 \n",
            "=================================================================\n",
            "Total params: 0 (0.00 Byte)\n",
            "Trainable params: 0 (0.00 Byte)\n",
            "Non-trainable params: 0 (0.00 Byte)\n",
            "_________________________________________________________________\n"
          ]
        }
      ]
    },
    {
      "cell_type": "code",
      "source": [
        "from tensorflow.keras.layers import Embedding\n",
        "model.add(Embedding(max_tokens + 1, 8))"
      ],
      "metadata": {
        "id": "zwqE4LqfVmUK"
      },
      "execution_count": null,
      "outputs": []
    },
    {
      "cell_type": "code",
      "source": [
        "from tensorflow.keras.layers import LSTM, SimpleRNN\n",
        "model.add(LSTM(16))"
      ],
      "metadata": {
        "id": "UAZQk7ZxVtnf"
      },
      "execution_count": null,
      "outputs": []
    },
    {
      "cell_type": "code",
      "source": [
        "from tensorflow.keras.layers import Dense\n",
        "\n",
        "model.add(Dense(16, activation=\"relu\"))\n",
        "model.add(Dense(1, activation=\"sigmoid\"))"
      ],
      "metadata": {
        "id": "uehNEOpEV0Wn"
      },
      "execution_count": null,
      "outputs": []
    },
    {
      "cell_type": "code",
      "source": [
        "model.summary()"
      ],
      "metadata": {
        "colab": {
          "base_uri": "https://localhost:8080/"
        },
        "id": "OH8HTdqQV5jQ",
        "outputId": "f9b42823-2e44-4ea9-eafa-b1b40a0e8dd1"
      },
      "execution_count": null,
      "outputs": [
        {
          "output_type": "stream",
          "name": "stdout",
          "text": [
            "Model: \"sequential\"\n",
            "_________________________________________________________________\n",
            " Layer (type)                Output Shape              Param #   \n",
            "=================================================================\n",
            " text_vectorization (TextVe  (None, 5)                 0         \n",
            " ctorization)                                                    \n",
            "                                                                 \n",
            " embedding (Embedding)       (None, 5, 8)              16008     \n",
            "                                                                 \n",
            " lstm (LSTM)                 (None, 16)                1600      \n",
            "                                                                 \n",
            " dense (Dense)               (None, 16)                272       \n",
            "                                                                 \n",
            " dense_1 (Dense)             (None, 1)                 17        \n",
            "                                                                 \n",
            "=================================================================\n",
            "Total params: 17897 (69.91 KB)\n",
            "Trainable params: 17897 (69.91 KB)\n",
            "Non-trainable params: 0 (0.00 Byte)\n",
            "_________________________________________________________________\n"
          ]
        }
      ]
    },
    {
      "cell_type": "code",
      "source": [
        "model.compile(\n",
        "  optimizer='adam',\n",
        "  loss='binary_crossentropy',\n",
        "  metrics=['accuracy'],\n",
        ")"
      ],
      "metadata": {
        "id": "-Z9OYng-S3iB"
      },
      "execution_count": null,
      "outputs": []
    },
    {
      "cell_type": "code",
      "source": [
        "  history = model.fit(X_train, y_train, epochs=5)"
      ],
      "metadata": {
        "colab": {
          "base_uri": "https://localhost:8080/"
        },
        "id": "qNJhNiT0S6EG",
        "outputId": "e998c7d9-a9aa-46d4-b33e-6b960889b037"
      },
      "execution_count": null,
      "outputs": [
        {
          "output_type": "stream",
          "name": "stdout",
          "text": [
            "Epoch 1/5\n",
            "122/122 [==============================] - 3s 4ms/step - loss: 0.4397 - accuracy: 0.8662\n",
            "Epoch 2/5\n",
            "122/122 [==============================] - 0s 4ms/step - loss: 0.2057 - accuracy: 0.9087\n",
            "Epoch 3/5\n",
            "122/122 [==============================] - 0s 4ms/step - loss: 0.1187 - accuracy: 0.9626\n",
            "Epoch 4/5\n",
            "122/122 [==============================] - 1s 4ms/step - loss: 0.0855 - accuracy: 0.9710\n",
            "Epoch 5/5\n",
            "122/122 [==============================] - 0s 4ms/step - loss: 0.0684 - accuracy: 0.9772\n"
          ]
        }
      ]
    },
    {
      "cell_type": "code",
      "source": [
        "import matplotlib.pylab as plt"
      ],
      "metadata": {
        "id": "R67oucPVS8Eq"
      },
      "execution_count": null,
      "outputs": []
    },
    {
      "cell_type": "code",
      "source": [
        "plt.plot(history.history['accuracy'])\n",
        "plt.title('model accuracy')\n",
        "plt.ylabel('accuracy')\n",
        "plt.xlabel('epoch')\n",
        "plt.legend(['train', 'test'], loc='upper left')\n",
        "plt.show()"
      ],
      "metadata": {
        "id": "DPoEqYdVS-wt"
      },
      "execution_count": null,
      "outputs": []
    },
    {
      "cell_type": "code",
      "source": [
        "plt.plot(history.history['loss'])\n",
        "plt.title('model loss')\n",
        "plt.ylabel('loss')\n",
        "plt.xlabel('epoch')\n",
        "plt.legend(['train', 'test'], loc='upper left')\n",
        "plt.show()"
      ],
      "metadata": {
        "colab": {
          "base_uri": "https://localhost:8080/",
          "height": 472
        },
        "id": "AV4CodxpTCKZ",
        "outputId": "fbff279c-7fc9-4ad2-87e7-15643acc428f"
      },
      "execution_count": null,
      "outputs": [
        {
          "output_type": "display_data",
          "data": {
            "text/plain": [
              "<Figure size 640x480 with 1 Axes>"
            ],
            "image/png": "[encoded data removed]"
          },
          "metadata": {}
        }
      ]
    },
    {
      "cell_type": "code",
      "source": [
        "print(model.predict([\n",
        "  \"Night night, see you tomorrow\",\n",
        "]))"
      ],
      "metadata": {
        "colab": {
          "base_uri": "https://localhost:8080/"
        },
        "id": "XvOFrtuDTE5T",
        "outputId": "12d28d83-4db9-4202-9209-9f9fa5b8529d"
      },
      "execution_count": null,
      "outputs": [
        {
          "output_type": "stream",
          "name": "stdout",
          "text": [
            "1/1 [==============================] - 0s 493ms/step\n",
            "[[0.99991137]]\n"
          ]
        }
      ]
    },
    {
      "cell_type": "code",
      "source": [
        "e = model.layers[1]\n",
        "weights = e.get_weights()[0]\n",
        "print(weights.shape)"
      ],
      "metadata": {
        "colab": {
          "base_uri": "https://localhost:8080/"
        },
        "id": "voE1870NTH7r",
        "outputId": "687330fd-a5cd-4037-a169-cc96b87e0a88"
      },
      "execution_count": null,
      "outputs": [
        {
          "output_type": "stream",
          "name": "stdout",
          "text": [
            "(2001, 8)\n"
          ]
        }
      ]
    },
    {
      "cell_type": "code",
      "source": [
        "model2 = Sequential()\n",
        "model2.add(Input(shape=(1,), dtype=\"string\"))\n",
        "model2.add(vectorize_layer)\n",
        "model2.add(Embedding(max_tokens + 1, 2))\n",
        "model2.add(SimpleRNN(16, return_sequences=True))\n",
        "model2.add(SimpleRNN(16))\n",
        "model2.add(Dense(16, activation=\"relu\"))\n",
        "model2.add(Dense(1, activation=\"sigmoid\"))\n",
        "model2.summary()"
      ],
      "metadata": {
        "colab": {
          "base_uri": "https://localhost:8080/"
        },
        "id": "izwE2A8DTKPU",
        "outputId": "fc379e8e-b5ed-44f7-c7fa-7c1b4bae78cd"
      },
      "execution_count": null,
      "outputs": [
        {
          "output_type": "stream",
          "name": "stdout",
          "text": [
            "Model: \"sequential_2\"\n",
            "_________________________________________________________________\n",
            " Layer (type)                Output Shape              Param #   \n",
            "=================================================================\n",
            " text_vectorization (TextVe  (None, 5)                 0         \n",
            " ctorization)                                                    \n",
            "                                                                 \n",
            " embedding_1 (Embedding)     (None, 5, 2)              4002      \n",
            "                                                                 \n",
            " simple_rnn (SimpleRNN)      (None, 5, 16)             304       \n",
            "                                                                 \n",
            " simple_rnn_1 (SimpleRNN)    (None, 16)                528       \n",
            "                                                                 \n",
            " dense_2 (Dense)             (None, 16)                272       \n",
            "                                                                 \n",
            " dense_3 (Dense)             (None, 1)                 17        \n",
            "                                                                 \n",
            "=================================================================\n",
            "Total params: 5123 (20.01 KB)\n",
            "Trainable params: 5123 (20.01 KB)\n",
            "Non-trainable params: 0 (0.00 Byte)\n",
            "_________________________________________________________________\n"
          ]
        }
      ]
    },
    {
      "cell_type": "code",
      "source": [
        "e = model2.layers[1]\n",
        "weights = e.get_weights()[0]\n",
        "print(weights.shape)"
      ],
      "metadata": {
        "colab": {
          "base_uri": "https://localhost:8080/"
        },
        "id": "suTGrKTiTNjo",
        "outputId": "f103caf1-ee40-4506-bf59-b2410d3d5fc8"
      },
      "execution_count": null,
      "outputs": [
        {
          "output_type": "stream",
          "name": "stdout",
          "text": [
            "(2001, 2)\n"
          ]
        }
      ]
    },
    {
      "cell_type": "code",
      "source": [
        "import io\n",
        "\n",
        "# Write out the embedding vectors and metadata\n",
        "out_v = io.open('vecs.tsv', 'w', encoding='utf-8')\n",
        "out_m = io.open('meta.tsv', 'w', encoding='utf-8')\n",
        "for word_num in range(1, max_tokens):\n",
        "  word = reverse_word_index[word_num]\n",
        "  embeddings = weights[word_num]\n",
        "  out_m.write(word + \"\\n\")\n",
        "  out_v.write('\\t'.join([str(x) for x in embeddings]) + \"\\n\")\n",
        "out_v.close()\n",
        "out_m.close()"
      ],
      "metadata": {
        "id": "oA1GFP33TQgj"
      },
      "execution_count": null,
      "outputs": []
    },
    {
      "cell_type": "code",
      "source": [
        "try:\n",
        "  from google.colab import files\n",
        "except ImportError:\n",
        "  pass\n",
        "else:\n",
        "  files.download('vecs.tsv')\n",
        "  files.download('meta.tsv')"
      ],
      "metadata": {
        "colab": {
          "base_uri": "https://localhost:8080/",
          "height": 17
        },
        "id": "1DVWkTVjTS_O",
        "outputId": "f500bacc-ee90-408f-844e-361ddf0dd957"
      },
      "execution_count": null,
      "outputs": [
        {
          "output_type": "display_data",
          "data": {
            "text/plain": [
              "<IPython.core.display.Javascript object>"
            ],
            "application/javascript": [
              "\n",
              "    async function download(id, filename, size) {\n",
              "      if (!google.colab.kernel.accessAllowed) {\n",
              "        return;\n",
              "      }\n",
              "      const div = document.createElement('div');\n",
              "      const label = document.createElement('label');\n",
              "      label.textContent = `Downloading \"${filename}\": `;\n",
              "      div.appendChild(label);\n",
              "      const progress = document.createElement('progress');\n",
              "      progress.max = size;\n",
              "      div.appendChild(progress);\n",
              "      document.body.appendChild(div);\n",
              "\n",
              "      const buffers = [];\n",
              "      let downloaded = 0;\n",
              "\n",
              "      const channel = await google.colab.kernel.comms.open(id);\n",
              "      // Send a message to notify the kernel that we're ready.\n",
              "      channel.send({})\n",
              "\n",
              "      for await (const message of channel.messages) {\n",
              "        // Send a message to notify the kernel that we're ready.\n",
              "        channel.send({})\n",
              "        if (message.buffers) {\n",
              "          for (const buffer of message.buffers) {\n",
              "            buffers.push(buffer);\n",
              "            downloaded += buffer.byteLength;\n",
              "            progress.value = downloaded;\n",
              "          }\n",
              "        }\n",
              "      }\n",
              "      const blob = new Blob(buffers, {type: 'application/binary'});\n",
              "      const a = document.createElement('a');\n",
              "      a.href = window.URL.createObjectURL(blob);\n",
              "      a.download = filename;\n",
              "      div.appendChild(a);\n",
              "      a.click();\n",
              "      div.remove();\n",
              "    }\n",
              "  "
            ]
          },
          "metadata": {}
        },
        {
          "output_type": "display_data",
          "data": {
            "text/plain": [
              "<IPython.core.display.Javascript object>"
            ],
            "application/javascript": [
              "download(\"download_5514f159-f448-460e-ae75-5211b3a1adc3\", \"vecs.tsv\", 49561)"
            ]
          },
          "metadata": {}
        },
        {
          "output_type": "display_data",
          "data": {
            "text/plain": [
              "<IPython.core.display.Javascript object>"
            ],
            "application/javascript": [
              "\n",
              "    async function download(id, filename, size) {\n",
              "      if (!google.colab.kernel.accessAllowed) {\n",
              "        return;\n",
              "      }\n",
              "      const div = document.createElement('div');\n",
              "      const label = document.createElement('label');\n",
              "      label.textContent = `Downloading \"${filename}\": `;\n",
              "      div.appendChild(label);\n",
              "      const progress = document.createElement('progress');\n",
              "      progress.max = size;\n",
              "      div.appendChild(progress);\n",
              "      document.body.appendChild(div);\n",
              "\n",
              "      const buffers = [];\n",
              "      let downloaded = 0;\n",
              "\n",
              "      const channel = await google.colab.kernel.comms.open(id);\n",
              "      // Send a message to notify the kernel that we're ready.\n",
              "      channel.send({})\n",
              "\n",
              "      for await (const message of channel.messages) {\n",
              "        // Send a message to notify the kernel that we're ready.\n",
              "        channel.send({})\n",
              "        if (message.buffers) {\n",
              "          for (const buffer of message.buffers) {\n",
              "            buffers.push(buffer);\n",
              "            downloaded += buffer.byteLength;\n",
              "            progress.value = downloaded;\n",
              "          }\n",
              "        }\n",
              "      }\n",
              "      const blob = new Blob(buffers, {type: 'application/binary'});\n",
              "      const a = document.createElement('a');\n",
              "      a.href = window.URL.createObjectURL(blob);\n",
              "      a.download = filename;\n",
              "      div.appendChild(a);\n",
              "      a.click();\n",
              "      div.remove();\n",
              "    }\n",
              "  "
            ]
          },
          "metadata": {}
        },
        {
          "output_type": "display_data",
          "data": {
            "text/plain": [
              "<IPython.core.display.Javascript object>"
            ],
            "application/javascript": [
              "download(\"download_f6801003-4fe7-40f6-94c3-9a96bb674fdb\", \"meta.tsv\", 12239)"
            ]
          },
          "metadata": {}
        }
      ]
    },
    {
      "cell_type": "code",
      "source": [
        "import numpy as np"
      ],
      "metadata": {
        "id": "tJVxrWPaTVPR"
      },
      "execution_count": null,
      "outputs": []
    },
    {
      "cell_type": "code",
      "source": [
        "words = np.loadtxt('meta.tsv', skiprows=1, dtype=str)\n",
        "words"
      ],
      "metadata": {
        "colab": {
          "base_uri": "https://localhost:8080/"
        },
        "id": "Jy5YqQQzTXaX",
        "outputId": "2fe358b3-eb7a-4f04-c865-636ff9bba073"
      },
      "execution_count": null,
      "outputs": [
        {
          "output_type": "execute_result",
          "data": {
            "text/plain": [
              "array(['to', 'i', 'you', ..., 'instructions', 'instantly',\n",
              "       'infowww100percentrealcom'], dtype='<U27')"
            ]
          },
          "metadata": {},
          "execution_count": 42
        }
      ]
    },
    {
      "cell_type": "code",
      "source": [
        "vectors = np.loadtxt('vecs.tsv', skiprows=1)\n",
        "vectors"
      ],
      "metadata": {
        "colab": {
          "base_uri": "https://localhost:8080/"
        },
        "id": "ABmK3lKLTaO5",
        "outputId": "1eaeb2d6-1f32-4650-b4c1-435e649269a2"
      },
      "execution_count": null,
      "outputs": [
        {
          "output_type": "execute_result",
          "data": {
            "text/plain": [
              "array([[ 0.03797287, -0.03538581],\n",
              "       [-0.02407294, -0.00163019],\n",
              "       [ 0.00736396, -0.00839981],\n",
              "       ...,\n",
              "       [ 0.00240017,  0.01734905],\n",
              "       [-0.04113857, -0.04358588],\n",
              "       [-0.04537221, -0.01493665]])"
            ]
          },
          "metadata": {},
          "execution_count": 43
        }
      ]
    },
    {
      "cell_type": "code",
      "source": [
        "import plotly.express as px\n",
        "\n",
        "fig = px.scatter(x=vectors[:,0], y=vectors[:,1], labels={'x':'x', 'y':'y'}, hover_name=words)\n",
        "fig.show()"
      ],
      "metadata": {
        "colab": {
          "base_uri": "https://localhost:8080/",
          "height": 542
        },
        "id": "29UrEOurTd6Q",
        "outputId": "22d85443-7ef6-4c51-c712-7a475650e427"
      },
      "execution_count": null,
      "outputs": [
        {
          "output_type": "display_data",
          "data": {
            "text/html": [
              "<html>\n",
              "<head><meta charset=\"utf-8\" /></head>\n",
              "<body>\n",
              "    <div>            <script src=\"https://cdnjs.cloudflare.com/ajax/libs/mathjax/2.7.5/MathJax.js?config=TeX-AMS-MML_SVG\"></script><script type=\"text/javascript\">if (window.MathJax && window.MathJax.Hub && window.MathJax.Hub.Config) {window.MathJax.Hub.Config({SVG: {font: \"STIX-Web\"}});}</script>                <script type=\"text/javascript\">window.PlotlyConfig = {MathJaxConfig: 'local'};</script>\n",
              "        <script charset=\"utf-8\" src=\"https://cdn.plot.ly/plotly-2.24.1.min.js\"></script>                <div id=\"c824b7bd-4821-4dd5-abd6-574a47b4909e\" class=\"plotly-graph-div\" style=\"height:525px; width:100%;\"></div>            <script type=\"text/javascript\">                                    window.PLOTLYENV=window.PLOTLYENV || {};                                    if (document.getElementById(\"c824b7bd-4821-4dd5-abd6-574a47b4909e\")) {                    Plotly.newPlot(                        \"c824b7bd-4821-4dd5-abd6-574a47b4909e\",                        [{\"hovertemplate\":\"\\u003cb\\u003e%{hovertext}\\u003c\\u002fb\\u003e\\u003cbr\\u003e\\u003cbr\\u003ex=%{x}\\u003cbr\\u003ey=%{y}\\u003cextra\\u003e\\u003c\\u002fextra\\u003e\",\"hovertext\":[\"to\",\"i\",\"you\",\"a\",\"the\",\"u\",\"and\",\"is\",\"in\",\"me\",\"my\",\"for\",\"your\",\"of\",\"it\",\"call\",\"have\",\"on\",\"that\",\"2\",\"are\",\"im\",\"now\",\"not\",\"but\",\"so\",\"at\",\"can\",\"or\",\"be\",\"do\",\"with\",\"just\",\"will\",\"if\",\"get\",\"ur\",\"no\",\"we\",\"this\",\"up\",\"its\",\"when\",\"go\",\"4\",\"dont\",\"free\",\"out\",\"ok\",\"all\",\"what\",\"know\",\"from\",\"how\",\"ltgt\",\"was\",\"good\",\"then\",\"ill\",\"like\",\"got\",\"come\",\"time\",\"only\",\"day\",\"there\",\"am\",\"want\",\"text\",\"as\",\"send\",\"he\",\"love\",\"need\",\"one\",\"by\",\"home\",\"going\",\"about\",\"our\",\"sorry\",\"see\",\"lor\",\"r\",\"txt\",\"stop\",\"back\",\"still\",\"hi\",\"reply\",\"n\",\"new\",\"today\",\"tell\",\"please\",\"later\",\"well\",\"any\",\"been\",\"mobile\",\"da\",\"\\u00fc\",\"some\",\"think\",\"take\",\"great\",\"her\",\"she\",\"phone\",\"has\",\"did\",\"they\",\"here\",\"d\",\"claim\",\"who\",\"pls\",\"had\",\"cant\",\"much\",\"week\",\"hey\",\"night\",\"work\",\"where\",\"too\",\"more\",\"hope\",\"him\",\"way\",\"dear\",\"wat\",\"give\",\"an\",\"say\",\"oh\",\"make\",\"amp\",\"doing\",\"life\",\"happy\",\"already\",\"prize\",\"were\",\"e\",\"yeah\",\"should\",\"why\",\"thats\",\"really\",\"number\",\"msg\",\"miss\",\"message\",\"lol\",\"very\",\"tomorrow\",\"yes\",\"them\",\"right\",\"didnt\",\"c\",\"after\",\"1\",\"said\",\"let\",\"k\",\"thanks\",\"last\",\"find\",\"ask\",\"would\",\"sure\",\"morning\",\"meet\",\"buy\",\"also\",\"before\",\"babe\",\"anything\",\"something\",\"cos\",\"cash\",\"care\",\"contact\",\"won\",\"pick\",\"keep\",\"win\",\"went\",\"place\",\"first\",\"b\",\"service\",\"over\",\"next\",\"could\",\"tonight\",\"other\",\"nokia\",\"friends\",\"around\",\"again\",\"ya\",\"us\",\"ive\",\"every\",\"someone\",\"sent\",\"per\",\"gud\",\"feel\",\"even\",\"always\",\"youre\",\"which\",\"wait\",\"thing\",\"leave\",\"his\",\"customer\",\"year\",\"wont\",\"wish\",\"wan\",\"urgent\",\"people\",\"x\",\"many\",\"help\",\"gonna\",\"3\",\"nice\",\"dun\",\"things\",\"soon\",\"sleep\",\"same\",\"money\",\"down\",\"talk\",\"off\",\"live\",\"late\",\"end\",\"chat\",\"bit\",\"waiting\",\"may\",\"lunch\",\"job\",\"friend\",\"coming\",\"trying\",\"told\",\"stuff\",\"special\",\"getting\",\"\\u00dc\",\"yet\",\"v\",\"smile\",\"hello\",\"guaranteed\",\"use\",\"person\",\"never\",\"name\",\"long\",\"havent\",\"haha\",\"best\",\"try\",\"thk\",\"line\",\"draw\",\"class\",\"thought\",\"man\",\"girl\",\"fine\",\"eat\",\"done\",\"being\",\"5\",\"shows\",\"nothing\",\"mins\",\"lar\",\"hows\",\"holiday\",\"check\",\"car\",\"another\",\"account\",\"16\",\"y\",\"sweet\",\"receive\",\"ready\",\"luv\",\"heart\",\"having\",\"guess\",\"finish\",\"does\",\"cool\",\"chance\",\"birthday\",\"bed\",\"18\",\"tone\",\"mind\",\"meeting\",\"liao\",\"half\",\"guys\",\"few\",\"days\",\"big\",\"ah\",\"\\u00a31000\",\"sir\",\"reach\",\"probably\",\"play\",\"jus\",\"box\",\"whats\",\"watch\",\"wanna\",\"two\",\"thanx\",\"sms\",\"shit\",\"real\",\"pa\",\"lot\",\"house\",\"hear\",\"g\",\"ever\",\"cost\",\"better\",\"awarded\",\"asked\",\"1st\",\"yup\",\"xxx\",\"theres\",\"speak\",\"s\",\"problem\",\"po\",\"pay\",\"minutes\",\"min\",\"kiss\",\"join\",\"easy\",\"boy\",\"because\",\"apply\",\"aight\",\"\\u00a32000\",\"yo\",\"xmas\",\"weekend\",\"watching\",\"than\",\"shopping\",\"selected\",\"orange\",\"month\",\"might\",\"latest\",\"everything\",\"enjoy\",\"dat\",\"code\",\"wanted\",\"wake\",\"tv\",\"thank\",\"room\",\"once\",\"id\",\"god\",\"fun\",\"fuck\",\"dinner\",\"camera\",\"bt\",\"without\",\"todays\",\"those\",\"shall\",\"remember\",\"princess\",\"price\",\"network\",\"landline\",\"evening\",\"dunno\",\"came\",\"between\",\"bad\",\"6\",\"500\",\"\\u00a3150\",\"worry\",\"world\",\"word\",\"wif\",\"weekly\",\"tmr\",\"tcs\",\"shes\",\"sexy\",\"plus\",\"means\",\"look\",\"little\",\"leh\",\"left\",\"into\",\"hour\",\"forgot\",\"face\",\"early\",\"details\",\"den\",\"award\",\"9\",\"until\",\"says\",\"part\",\"okay\",\"o\",\"maybe\",\"looking\",\"juz\",\"important\",\"hair\",\"entry\",\"enough\",\"dis\",\"called\",\"baby\",\"wot\",\"working\",\"wen\",\"valid\",\"till\",\"til\",\"start\",\"show\",\"sat\",\"rate\",\"quite\",\"put\",\"plan\",\"office\",\"offer\",\"noe\",\"must\",\"missing\",\"making\",\"made\",\"lets\",\"hes\",\"food\",\"else\",\"bus\",\"bonus\",\"anyway\",\"able\",\"while\",\"video\",\"town\",\"top\",\"tones\",\"together\",\"test\",\"since\",\"plz\",\"online\",\"mob\",\"hurt\",\"guy\",\"goin\",\"family\",\"comes\",\"collect\",\"busy\",\"bored\",\"answer\",\"actually\",\"abt\",\"2nd\",\"150ppm\",\"\\u00a3100\",\"tot\",\"though\",\"tc\",\"simple\",\"school\",\"saw\",\"run\",\"points\",\"pain\",\"nite\",\"ltdecimalgt\",\"hours\",\"goes\",\"doesnt\",\"de\",\"change\",\"calls\",\"beautiful\",\"attempt\",\"ard\",\"\\u00a35000\",\"yourself\",\"yours\",\"years\",\"worth\",\"wants\",\"walk\",\"update\",\"unsubscribe\",\"trip\",\"times\",\"smoke\",\"shop\",\"set\",\"sch\",\"rite\",\"ringtone\",\"pics\",\"oso\",\"music\",\"most\",\"minute\",\"mean\",\"makes\",\"m\",\"lei\",\"huh\",\"hot\",\"happen\",\"gr8\",\"gift\",\"full\",\"either\",\"driving\",\"double\",\"dad\",\"charge\",\"bring\",\"book\",\"afternoon\",\"7\",\"\\u00a3500\",\"yesterday\",\"words\",\"wk\",\"wil\",\"wife\",\"vouchers\",\"voucher\",\"these\",\"texts\",\"stay\",\"private\",\"order\",\"okie\",\"messages\",\"knw\",\"isnt\",\"head\",\"haf\",\"games\",\"dude\",\"delivery\",\"credit\",\"coz\",\"cause\",\"both\",\"available\",\"alright\",\"8007\",\"150p\",\"100\",\"\\u00a3350\",\"youve\",\"wid\",\"true\",\"tried\",\"treat\",\"touch\",\"thinking\",\"taking\",\"statement\",\"sounds\",\"sad\",\"ring\",\"pounds\",\"open\",\"lose\",\"light\",\"leaving\",\"game\",\"frnd\",\"friendship\",\"found\",\"finished\",\"final\",\"feeling\",\"far\",\"expires\",\"eve\",\"drop\",\"dreams\",\"dating\",\"congrats\",\"colour\",\"collection\",\"carlos\",\"bout\",\"away\",\"auction\",\"86688\",\"12hrs\",\"wonderful\",\"winner\",\"wasnt\",\"unredeemed\",\"uncle\",\"tscs\",\"tomo\",\"tho\",\"their\",\"story\",\"started\",\"st\",\"smiling\",\"sister\",\"sis\",\"search\",\"sea\",\"sae\",\"reason\",\"question\",\"poly\",\"pic\",\"phones\",\"old\",\"ni8\",\"neva\",\"national\",\"movie\",\"mobileupd8\",\"mail\",\"lucky\",\"ltd\",\"loving\",\"log\",\"land\",\"identifier\",\"hit\",\"hav\",\"hard\",\"gd\",\"frnds\",\"forget\",\"each\",\"drive\",\"date\",\"crazy\",\"club\",\"close\",\"choose\",\"card\",\"caller\",\"brother\",\"believe\",\"await\",\"anyone\",\"angry\",\"ago\",\"address\",\"12\",\"whole\",\"welcome\",\"valued\",\"thinks\",\"th\",\"telling\",\"t\",\"sun\",\"smth\",\"sleeping\",\"sell\",\"seen\",\"secret\",\"second\",\"saying\",\"savamob\",\"rental\",\"questions\",\"pretty\",\"post\",\"party\",\"outside\",\"opt\",\"operator\",\"offers\",\"mum\",\"mu\",\"months\",\"missed\",\"mine\",\"mate\",\"lesson\",\"hungry\",\"happened\",\"fri\",\"fone\",\"finally\",\"felt\",\"fast\",\"fancy\",\"everyone\",\"enter\",\"drink\",\"download\",\"decided\",\"company\",\"case\",\"bcoz\",\"alone\",\"aft\",\"abiola\",\"750\",\"\\u2026\",\"yr\",\"yar\",\"wrong\",\"whatever\",\"weeks\",\"w\",\"visit\",\"type\",\"took\",\"terms\",\"swing\",\"supposed\",\"song\",\"snow\",\"sex\",\"saturday\",\"rock\",\"read\",\"re\",\"pub\",\"project\",\"prob\",\"point\",\"pobox\",\"player\",\"nt\",\"nope\",\"meant\",\"lots\",\"listen\",\"invited\",\"hospital\",\"hold\",\"happiness\",\"ha\",\"goodmorning\",\"gas\",\"fucking\",\"freemsg\",\"email\",\"earlier\",\"dnt\",\"course\",\"congratulations\",\"bslvyl\",\"break\",\"bday\",\"awesome\",\"anytime\",\"800\",\"2003\",\"10p\",\"08000930705\",\"\\u00a3250\",\"yep\",\"wit\",\"uk\",\"txts\",\"tel\",\"talking\",\"takes\",\"surprise\",\"sound\",\"somewhere\",\"somebody\",\"save\",\"reading\",\"rain\",\"picking\",\"parents\",\"own\",\"oredi\",\"optout\",\"oops\",\"ntt\",\"news\",\"na\",\"mrng\",\"move\",\"mates\",\"march\",\"mah\",\"luck\",\"lovely\",\"loved\",\"least\",\"king\",\"kind\",\"itself\",\"information\",\"info\",\"hmv\",\"hell\",\"hee\",\"gotta\",\"girls\",\"flag\",\"fantastic\",\"f\",\"etc\",\"energy\",\"empty\",\"die\",\"cum\",\"crave\",\"content\",\"computer\",\"comp\",\"college\",\"checking\",\"charity\",\"camcorder\",\"calling\",\"bath\",\"bank\",\"b4\",\"askd\",\"age\",\"150pmsg\",\"10\",\"08000839402\",\"youll\",\"wonder\",\"wkly\",\"weekends\",\"wap\",\"via\",\"used\",\"ure\",\"uks\",\"ugh\",\"truth\",\"thinkin\",\"ten\",\"summer\",\"study\",\"store\",\"starts\",\"small\",\"single\",\"sick\",\"services\",\"seriously\",\"sending\",\"semester\",\"reward\",\"rest\",\"reaching\",\"quiz\",\"promise\",\"press\",\"police\",\"pizza\",\"pc\",\"otherwise\",\"orchard\",\"noon\",\"needs\",\"near\",\"msgs\",\"mr\",\"motorola\",\"monday\",\"meh\",\"mayb\",\"mark\",\"lost\",\"knows\",\"knew\",\"jay\",\"ipod\",\"india\",\"heard\",\"hand\",\"gone\",\"gave\",\"fr\",\"film\",\"feels\",\"entered\",\"england\",\"eh\",\"eg\",\"dream\",\"don\",\"dogging\",\"din\",\"different\",\"cut\",\"cs\",\"convey\",\"chennai\",\"cheap\",\"catch\",\"callertune\",\"brings\",\"boytoy\",\"booked\",\"bill\",\"bathe\",\"asking\",\"area\",\"anymore\",\"almost\",\"87066\",\"\\u00a3800\",\"xx\",\"write\",\"wondering\",\"woke\",\"wishing\",\"wishes\",\"whos\",\"wed\",\"wats\",\"water\",\"wana\",\"voice\",\"urself\",\"understand\",\"txting\",\"towards\",\"tough\",\"tickets\",\"tampa\",\"sub\",\"stupid\",\"studying\",\"std\",\"staying\",\"spend\",\"space\",\"sony\",\"slow\",\"situation\",\"sight\",\"shuhui\",\"short\",\"seems\",\"rs\",\"replying\",\"pm\",\"paper\",\"ones\",\"nyt\",\"numbers\",\"normal\",\"mrt\",\"moment\",\"mom\",\"mobiles\",\"mm\",\"met\",\"merry\",\"menu\",\"lovable\",\"loads\",\"library\",\"leaves\",\"laugh\",\"laptop\",\"kate\",\"john\",\"imagine\",\"il\",\"honey\",\"hiya\",\"gym\",\"gods\",\"glad\",\"gets\",\"gal\",\"forever\",\"father\",\"fact\",\"extra\",\"excuse\",\"ends\",\"ending\",\"drugs\",\"dog\",\"discount\",\"direct\",\"difficult\",\"deep\",\"decide\",\"darren\",\"darlin\",\"currently\",\"couple\",\"correct\",\"copy\",\"complimentary\",\"cinema\",\"christmas\",\"buying\",\"boss\",\"blue\",\"bid\",\"apartment\",\"aint\",\"aha\",\"admirer\",\"across\",\"access\",\"8\",\"530\",\"2day\",\"2004\",\"0800\",\"zed\",\"wun\",\"worried\",\"workin\",\"wine\",\"wheres\",\"wednesday\",\"warm\",\"vodafone\",\"valentines\",\"usf\",\"unlimited\",\"unless\",\"under\",\"trust\",\"trouble\",\"torch\",\"tonite\",\"tired\",\"tick\",\"thru\",\"theyre\",\"tear\",\"team\",\"tea\",\"support\",\"spent\",\"specially\",\"sort\",\"sometimes\",\"slowly\",\"slave\",\"sitting\",\"sit\",\"sim\",\"silent\",\"side\",\"shower\",\"self\",\"seeing\",\"sale\",\"rply\",\"round\",\"request\",\"representative\",\"report\",\"replied\",\"rent\",\"remove\",\"reached\",\"rather\",\"quick\",\"present\",\"pray\",\"poor\",\"polys\",\"pleasure\",\"pilates\",\"picked\",\"paying\",\"pass\",\"park\",\"others\",\"onto\",\"omg\",\"official\",\"net\",\"naked\",\"muz\",\"murderer\",\"murdered\",\"mp3\",\"moms\",\"miracle\",\"member\",\"meaning\",\"matches\",\"match\",\"marriage\",\"looks\",\"longer\",\"loan\",\"list\",\"link\",\"lemme\",\"ldn\",\"lady\",\"la\",\"kinda\",\"kick\",\"kept\",\"kallis\",\"january\",\"j\",\"ish\",\"interested\",\"inc\",\"idea\",\"hurry\",\"however\",\"holla\",\"holder\",\"ho\",\"hmm\",\"goodnight\",\"gives\",\"girlfrnd\",\"funny\",\"frens\",\"fixed\",\"figure\",\"fight\",\"fault\",\"eyes\",\"ex\",\"entitled\",\"em\",\"eating\",\"doin\",\"disturb\",\"directly\",\"definitely\",\"dead\",\"damn\",\"daddy\",\"cute\",\"cup\",\"croydon\",\"cr9\",\"comin\",\"colleagues\",\"coffee\",\"click\",\"cine\",\"changed\",\"cell\",\"cancel\",\"btnationalrate\",\"brand\",\"bold\",\"become\",\"bb\",\"battery\",\"bak\",\"awake\",\"ave\",\"ass\",\"asap\",\"arcade\",\"ahead\",\"against\",\"87077\",\"62468\",\"5wb\",\"2nite\",\"25p\",\"20p\",\"150\",\"1327\",\"10pmin\",\"0870\",\"\\u2013\",\"\\u00a3900\",\"\\u00a3300\",\"youd\",\"yahoo\",\"xy\",\"wow\",\"wnt\",\"within\",\"wins\",\"willing\",\"whenever\",\"weed\",\"waking\",\"vikky\",\"vary\",\"uve\",\"usually\",\"usual\",\"using\",\"user\",\"urgnt\",\"ufind\",\"turns\",\"totally\",\"thurs\",\"tht\",\"through\",\"thnk\",\"tells\",\"super\",\"sunday\",\"sucks\",\"street\",\"station\",\"specialcall\",\"sofa\",\"slept\",\"sky\",\"sk38xh\",\"site\",\"sign\",\"share\",\"selection\",\"screaming\",\"safe\",\"running\",\"rreveal\",\"rose\",\"road\",\"ringtones\",\"ride\",\"returns\",\"return\",\"rem\",\"rcvd\",\"rates\",\"random\",\"ran\",\"raining\",\"pussy\",\"pound\",\"possible\",\"pobox84\",\"plenty\",\"players\",\"plans\",\"pix\",\"photo\",\"pete\",\"personal\",\"past\",\"page\",\"opinion\",\"omw\",\"nobody\",\"no1\",\"nigeria\",\"nah\",\"mths\",\"movies\",\"mother\",\"mood\",\"mo\",\"mei\",\"matter\",\"married\",\"loves\",\"loverboy\",\"lookin\",\"london\",\"lift\",\"lessons\",\"less\",\"learn\",\"l8r\",\"kids\",\"joys\",\"jesus\",\"inviting\",\"intro\",\"instead\",\"informed\",\"immediately\",\"imma\",\"ice\",\"iam\",\"hv\",\"hurts\",\"httpwwwurawinnercom\",\"hotel\",\"hostel\",\"horny\",\"hmmm\",\"high\",\"heavy\",\"happening\",\"hai\",\"gt\",\"grins\",\"goto\",\"gettin\",\"geeee\",\"ge\",\"gay\",\"fyi\",\"future\",\"frm\",\"friday\",\"freephone\",\"forwarded\",\"forward\",\"following\",\"flower\",\"flights\",\"fb\",\"fat\",\"fantasy\",\"facebook\",\"experience\",\"expecting\",\"exam\",\"especially\",\"envelope\",\"eatin\",\"due\",\"don\\u0092t\",\"doctor\",\"discuss\",\"died\",\"depends\",\"del\",\"deal\",\"daily\",\"cry\",\"credits\",\"contract\",\"connection\",\"cold\",\"choice\",\"chinese\",\"children\",\"chikku\",\"cheers\",\"charges\",\"charged\",\"cd\",\"campus\",\"cal\",\"cafe\",\"boston\",\"body\",\"bluetooth\",\"black\",\"babes\",\"ate\",\"askin\",\"arrive\",\"arrange\",\"ar\",\"april\",\"appreciate\",\"ans\",\"announcement\",\"amazing\",\"aiyah\",\"airport\",\"ahmad\",\"advice\",\"add\",\"activate\",\"85023\",\"50\",\"3g\",\"2mrw\",\"250\",\"20\",\"11mths\",\"11\",\"1000s\",\"08707509020\",\"\\u00a33wk\",\"\\u00a3200\",\"yuo\",\"yun\",\"yrs\",\"yogasana\",\"ym\",\"yijue\",\"yer\",\"xchat\",\"wylie\",\"wwwgetzedcouk\",\"wtf\",\"wouldnt\",\"worries\",\"woman\",\"wiv\",\"wherever\",\"whens\",\"weve\",\"weight\",\"weak\",\"waste\",\"walking\",\"w45wq\",\"w111wx\",\"vry\",\"vl\",\"vijay\",\"unsub\",\"uni\",\"uncles\",\"unable\",\"umma\",\"tyler\",\"twice\",\"tuesday\",\"ttyl\",\"truly\",\"tree\",\"train\",\"tour\",\"toclaim\",\"tncs\",\"tihs\",\"thursday\",\"theory\",\"theatre\",\"tenerife\",\"tariffs\",\"surprised\",\"surfing\",\"surely\",\"sura\",\"sup\",\"sunshine\",\"sunny\",\"style\",\"strong\",\"stockport\",\"starting\",\"standard\",\"spree\",\"sport\",\"spook\",\"spoken\",\"spoke\",\"south\",\"songs\",\"sol\",\"smokes\",\"skype\",\"simply\",\"sighs\",\"si\",\"shouldnt\",\"shell\",\"shd\",\"settled\",\"serious\",\"series\",\"sept\",\"sense\",\"selling\",\"seem\",\"sed\",\"season\",\"searching\",\"scared\",\"sam\",\"rush\",\"rooms\",\"review\",\"revealed\",\"reveal\",\"results\",\"respond\",\"remain\",\"relax\",\"regards\",\"records\",\"recently\",\"received\",\"rally\",\"raise\",\"radio\",\"quote\",\"quality\",\"q\",\"putting\",\"profit\",\"posted\",\"pod\",\"pobox334\",\"pleased\",\"playing\",\"planning\",\"pin\",\"pg\",\"persons\",\"password\",\"partner\",\"package\",\"p\",\"oz\",\"often\",\"o2\",\"nyc\",\"nvm\",\"notice\",\"norm150ptone\",\"nights\",\"murder\",\"mums\",\"moral\",\"moon\",\"mon\",\"mode\",\"moan\",\"mite\",\"mistake\",\"mid\",\"men\",\"melle\",\"meetin\",\"meanwhile\",\"maximize\",\"max10mins\",\"marry\",\"mad\",\"lttimegt\",\"loyalty\",\"looked\",\"lonely\",\"local\",\"lmao\",\"living\",\"linerental\",\"liked\",\"lecture\",\"lazy\",\"key\",\"i\\u2018ll\",\"izzit\",\"issues\",\"interesting\",\"inside\",\"infernal\",\"inclusive\",\"ideas\",\"horrible\",\"hoping\",\"hook\",\"hl\",\"happens\",\"hands\",\"grl\",\"grand\",\"google\",\"giving\",\"gee\",\"fullonsmscom\",\"fren\",\"fml\",\"flat\",\"fix\",\"fighting\",\"fetch\",\"feet\",\"february\",\"favour\",\"faster\",\"fantasies\",\"fall\",\"explain\",\"exams\",\"exactly\",\"evng\",\"euro2004\",\"error\",\"er\",\"enjoyed\",\"eng\",\"ended\",\"dvd\",\"during\",\"door\",\"dollars\",\"digital\",\"diet\",\"didt\",\"dey\",\"delivered\",\"darling\",\"dai\",\"cuz\",\"cust\",\"cover\",\"country\",\"cost\\u00a3150pm\",\"costs\",\"costa\",\"cooking\",\"contacted\",\"considering\",\"confirm\",\"confidence\",\"conditions\",\"complete\",\"competition\",\"common\",\"co\",\"closer\",\"clean\",\"cheaper\",\"character\",\"centre\",\"cds\",\"cc\",\"cbe\",\"cashin\",\"cashbalance\",\"cars\",\"cancer\",\"callers\",\"cabin\",\"bye\",\"buns\",\"btw\",\"brought\",\"broke\",\"brilliant\",\"box39822\",\"bowl\",\"bother\",\"boost\",\"bishan\",\"biggest\",\"bet\",\"belly\",\"behind\",\"bathing\",\"basically\",\"balance\",\"bahamas\",\"bag\",\"awaiting\",\"asleep\",\"armand\",\"argue\",\"appt\",\"anyways\",\"amount\",\"alrite\",\"al\",\"ages\",\"addicted\",\"accept\",\"8th\",\"85\",\"84199\",\"83600\",\"4u\",\"4get\",\"40gb\",\"36504\",\"3510i\",\"3030\",\"300\",\"2u\",\"2optout\",\"150pmin\",\"150pm\",\"09050090044\",\"08718720201\",\"08712300220\",\"08001950382\",\"\\u00e9\",\"\\u00a3450\",\"\\u00a3400\",\"\\u00a33\",\"\\u00a31500\",\"\\u00a310\",\"\\u00a31\",\"\\u0096\",\"yoga\",\"yetunde\",\"yest\",\"yeshe\",\"xxxx\",\"xavier\",\"wwwldewcom1win150ppmx3age16\",\"wwwcomuknet\",\"www4tcbiz\",\"wt\",\"worse\",\"worlds\",\"women\",\"wn\",\"wks\",\"wkend\",\"winning\",\"white\",\"whenevr\",\"we\\u2018re\",\"wet\",\"wer\",\"weird\",\"wedding\",\"weather\",\"warner\",\"walls\",\"voicemail\",\"voda\",\"village\",\"videophones\",\"videochat\",\"vegetables\",\"valuable\",\"valentine\",\"urgentlyits\",\"urgentbut\",\"upto\",\"unsold\",\"university\",\"understanding\",\"ummmmmaah\",\"txtauction\",\"twelve\",\"turn\",\"tuition\",\"transfered\",\"transaction\",\"total\",\"todaysundaysunday\",\"toa\",\"tm\",\"tkts\",\"timing\",\"throat\",\"three\",\"thm\",\"that\\u2018s\",\"that\\u0092s\",\"texted\",\"term\",\"tenants\",\"temple\",\"telphone\",\"teasing\",\"tcrw1\",\"taunton\",\"tape\",\"takin\",\"tablets\",\"system\",\"symbol\",\"supply\",\"supervisor\",\"suntec\",\"suite\",\"suggest\",\"sugar\",\"subpoly\",\"stylish\",\"stress\",\"storming\",\"stomps\",\"step\",\"stand\",\"spl\",\"spending\",\"sp\",\"source\",\"sorting\",\"somethin\",\"some1\",\"solve\",\"snake\",\"sleepingand\",\"skip\",\"six\",\"siri\",\"singles\",\"shut\",\"showing\",\"shortage\",\"shame\",\"sha\",\"settings\",\"sen\",\"seconds\",\"sec\",\"se\",\"scream\",\"scary\",\"saved\",\"saucy\",\"ru\",\"roommate\",\"role\",\"roger\",\"response\",\"rentl\",\"remind\",\"released\",\"relation\",\"registered\",\"regarding\",\"refused\",\"reference\",\"receiving\",\"receipt\",\"recd\",\"realy\",\"reality\",\"rd\",\"rays\",\"rang\",\"rajipls\",\"railway\",\"quoting\",\"quit\",\"quickly\",\"questioned\",\"queen\",\"qatar\",\"purpose\",\"public\",\"ptbo\",\"provided\",\"prove\",\"problems\",\"prepare\",\"pple\",\"ppl\",\"pouts\",\"polyphonic\",\"pocketbabecouk\",\"planned\",\"places\",\"pissed\",\"pie\",\"pictures\",\"photos\",\"phne\",\"period\",\"perfect\",\"pence\",\"peace\",\"payoh\",\"passed\",\"paid\",\"pack\",\"outta\",\"oru\",\"opportunity\",\"onwards\",\"oni\",\"okthenwhats\",\"okok\",\"okey\",\"oic\",\"obviously\",\"nw\",\"ntwk\",\"note\",\"none\",\"noline\",\"nokias\",\"nimya\",\"newest\",\"netcollex\",\"nearly\",\"nature\",\"natuition\",\"myself\",\"mummy\",\"moralone\",\"moons\",\"moji\",\"model\",\"moby\",\"mmm\",\"mix\",\"missin\",\"minuts\",\"milk\",\"messenger\",\"members\",\"meds\",\"medical\",\"meal\",\"matured\",\"margaret\",\"manda\",\"mall\",\"male\",\"malaria\",\"maintain\",\"macho\",\"ma\",\"m8s\",\"m263uz\",\"lover\",\"loud\",\"lotr\",\"losing\",\"loses\",\"login\",\"ll\",\"listening\",\"likely\",\"lik\",\"lifetime\",\"lie\",\"lido\",\"letters\",\"lect\",\"law\",\"laughing\",\"latr\",\"laid\",\"lacsthere\",\"lacsthats\",\"lab\",\"kusruthi\",\"knackered\",\"kidz\",\"ki\",\"keys\",\"kettoda\",\"kerala\",\"keeping\",\"kb\",\"kano\",\"kadeem\",\"k52\",\"june\",\"juicy\",\"joy\",\"jordan\",\"joking\",\"jokes\",\"joke\",\"joined\",\"jen\",\"jazz\",\"jays\",\"java\",\"jane\",\"jada\",\"it\\u2018s\",\"invnted\",\"internet\",\"intelligent\",\"insurance\",\"instructions\",\"instantly\",\"infowww100percentrealcom\"],\"legendgroup\":\"\",\"marker\":{\"color\":\"#636efa\",\"symbol\":\"circle\"},\"mode\":\"markers\",\"name\":\"\",\"showlegend\":false,\"x\":[0.03797287,-0.024072945,0.007363964,0.038629714,-0.012686871,-0.011608303,-0.03269719,0.04835886,-0.022813989,0.017407682,0.037834074,0.009937525,-0.02972852,0.037239935,0.0015648976,-0.031656757,0.035265457,-0.013435803,0.00020953268,0.026345525,-0.02811711,0.0036946908,-0.011076234,0.03479593,0.012395024,0.0418731,0.03813002,0.0028947964,-0.021161724,0.013374042,0.018544067,0.014547039,0.04110456,0.043703083,-0.022827698,-0.002965115,0.02074406,-0.006877266,-0.044944193,-0.03230574,-0.0050380006,-0.0071537867,0.042227376,0.023575615,-0.013469279,-0.02254125,0.04678477,-0.005645953,-0.029380465,0.008524738,-0.02259097,-0.023716975,-0.007298745,0.0050962083,0.03243394,0.037390146,0.0099252835,-0.04998951,-0.03274349,0.021271314,0.035191786,-0.032080233,-0.0063642487,0.031100664,0.032408062,-0.010800194,-0.015980504,-0.031271923,-0.043231275,-0.037469722,-0.00888592,-0.009948947,-0.025907755,0.017936442,0.040893067,-0.0048044547,0.0066220276,0.024171952,0.017273914,0.020784799,0.029506695,-0.0036997087,0.0030442365,-0.046414614,0.014252711,0.025145423,-0.036146056,0.04265065,-0.030926479,0.036557164,0.024454724,0.014702383,-0.022167623,-0.022048056,0.014069628,0.0010920987,0.043140616,0.0062240586,0.03507114,-0.025646938,-0.008717753,0.0069997683,0.029330324,0.02745955,0.043723974,-0.011196684,0.026184347,0.012754653,0.019576203,-0.0012225397,-0.0077408925,-0.031905733,0.019443337,-0.0065153018,0.012716118,-0.01724286,0.016055968,0.0046216846,0.020124082,0.008818649,-0.026472032,0.0061422475,-0.016034879,0.001933001,0.040456284,-0.0043085925,0.0031947978,-0.021296157,0.03515934,-0.047258403,0.024951745,0.016493771,0.009076189,0.017212871,-0.024583412,0.03963134,0.03220726,0.016468015,-0.020869255,-0.03698442,0.047161553,0.048131157,0.024069015,0.007667266,0.03648558,-0.035592448,-0.028719831,0.02002554,-0.007909298,0.0078310855,0.020875905,-0.01861129,-0.011500694,0.045730088,-0.042702045,-0.015975855,0.03528065,0.046692792,-0.022989953,-0.035784148,0.038333405,0.040248442,-0.022138774,0.016936544,-0.007803045,0.0076442845,0.029196154,-0.043388736,-0.04681635,0.037748482,-0.00016266108,0.012161244,-0.017914046,0.034805726,0.0032566674,-0.031713117,0.022348609,-0.010255814,-0.0094989315,-0.022847831,-0.037241746,-0.017647266,0.0014293306,-0.02508322,0.0093128905,-0.03031218,0.042505357,-0.038213134,0.012050189,-0.04212135,0.011801563,-0.0028014556,-0.011837065,0.042654943,-0.014977731,-0.013324894,0.032782804,0.026788961,-0.007681273,-0.0031629205,0.00060606,-0.035898566,0.03411441,0.031513933,-0.003993213,-0.016961504,0.03749795,0.013717998,-0.017390382,-0.043067493,0.0397459,0.04792768,0.041972306,-0.021567607,-0.011598386,-0.046800625,0.042173814,0.0256037,0.019530203,0.023907293,-0.019129217,0.011123098,0.04284996,-0.036926437,-0.0047180653,-0.029717851,0.034686174,-0.045481432,-0.037573062,-0.028582955,-0.03240706,0.014577959,0.04539914,0.022216666,-0.043281924,0.010838844,0.039933708,-0.03932458,0.015716497,-0.012424003,-0.044859268,-0.018540524,0.045987938,0.03897388,0.047172252,-0.016201127,0.001729954,0.024732854,0.022121858,0.0033434741,0.016677666,0.02833793,-0.04184679,0.045530867,-0.049648356,0.04817413,0.04744121,-0.0072595477,0.034600306,0.0018250234,-0.016532041,0.0032460466,0.04372931,-0.048257984,-0.0045746937,-0.03946048,0.04864401,-0.042356648,-0.026549459,-0.0031344518,0.009807348,-0.043828048,-0.026671708,0.0016555674,0.005666636,0.04019879,-0.01055,0.020549621,-0.023765732,-0.023247732,-0.019491553,0.042361233,0.0075922497,-0.001448594,-0.040368844,-0.020684231,-0.016050052,0.049874093,-0.018836904,-0.024569167,-0.0033400655,0.039077964,0.046202946,0.035211656,-0.0313249,0.046665166,0.018108916,0.017479207,-0.0069231503,0.025638726,0.013369057,-0.012492277,0.023848962,0.029664401,0.033693258,-0.035600293,-0.04758651,0.014430169,0.045290176,-0.0183038,0.020329181,0.049228217,-0.03676481,0.042145792,-0.0334877,-0.0029179566,0.04515933,0.010731507,0.021011006,-0.014329016,0.0064979084,-0.00850464,0.026961949,0.006964434,0.0328123,-0.020170748,0.022386815,-0.010382999,-0.007881902,0.012769509,0.027724411,-0.040630233,0.011110712,-0.0125800595,-0.02855773,-0.009618986,-0.03267833,0.011809517,0.030804303,-0.015887737,-0.013655912,-0.027392257,0.024851527,0.024931345,-0.0077131502,0.004899241,-0.014095984,0.0022963881,-0.039682746,0.023214709,-0.03209325,-0.038621783,-0.0007275231,-0.033043243,0.040050928,-0.045640018,-0.02045983,0.035207618,0.023803953,-0.022729803,0.008976746,0.043500412,0.008929886,0.049668897,-0.023172332,0.034225788,0.020182375,0.030800987,-0.012955986,-0.035338975,-0.03741169,0.04172111,-0.0466077,-0.009759057,-0.04026146,-0.0038677827,-0.005272649,-0.033114888,-0.0057431087,0.042715434,-0.016903698,0.033587467,0.04929656,-0.023323346,-0.0092511065,0.029272545,-0.039383244,-0.0008783452,0.023378078,0.047781717,-0.018765999,-0.0075685494,0.04651138,-0.013329245,0.042926405,0.03440399,-0.00742184,-0.035803474,-0.04236566,-0.010404803,-0.018791331,-0.028188873,0.0004936233,0.041685168,-0.0050810575,-0.040884696,-0.03144528,0.0028462522,-0.012704134,-0.011908628,0.023483362,-0.04802177,0.035853256,0.013936702,-8.329004e-05,-0.03596451,-0.008918107,-0.043438792,-0.04350206,0.035624716,0.03490192,0.03371762,-0.023195578,0.0039275773,-0.019508874,-0.04069246,0.035682093,-0.032526217,0.0021760464,-0.025018204,0.03125253,-0.0041031353,0.049270306,-0.0154920705,0.021808494,-0.02965572,0.02577405,-0.022880793,-0.017156102,-0.018554281,-0.03875997,-0.044270325,-0.047745254,-0.013708722,0.012690093,-0.0073000565,0.0064928904,-0.024444032,0.028703164,0.002009511,0.024829995,-0.028347885,0.04025689,-0.04798591,-0.031598166,-0.015325893,-0.030928541,-0.00644926,-0.0343822,0.010353506,-0.024693156,-0.01236292,-0.03813968,-0.03639275,-0.03676629,-0.02601539,0.007344641,-0.040219534,-0.04507966,0.017735992,0.021692071,0.047679927,0.01905996,0.00030390173,-0.009704102,-0.017523803,0.0068683513,-0.046175923,-0.030316127,-0.00032533333,0.018381048,-0.007835887,0.016478468,0.030434322,0.020018648,0.013355646,0.017685357,-0.048155546,-0.011252783,-0.02236991,-0.015774358,0.02500559,0.027862404,0.025559608,0.038707796,-0.044552863,0.035607103,0.030977678,0.04220661,-0.025702227,-0.047762215,0.018237177,-0.048745073,0.042098094,0.034759786,0.027902815,0.04179037,-0.0008144602,0.011155747,-0.038758993,0.0492152,-0.049118843,-0.022394253,0.024021868,0.039110746,0.0057165995,-0.036551356,0.034050252,0.027690101,-0.04730122,-0.049156334,0.038865816,-0.049710084,-0.037249647,-0.006780695,-0.037891436,0.0033978708,0.042123746,0.017417084,0.03609116,-0.02347455,0.026363287,0.02794576,0.0262851,-0.02638427,0.045572672,-0.029182553,0.046060327,-0.0092298165,0.018357132,0.045809772,-0.00013799593,-0.01133009,0.033751894,-0.047365643,0.044591475,-0.043632377,-0.006134771,0.012572195,0.014935698,-0.04437102,0.025492493,0.027449217,-0.0398525,0.00038309023,-0.02884823,-0.045988094,0.0050592907,0.04533274,0.029355038,0.040434923,0.046014797,-0.04057323,-0.027119184,0.04110879,-0.042170584,-0.009780098,-0.02299348,0.033818733,0.031637464,0.0009601824,0.0068825968,0.046569977,-0.023696959,-0.007904183,-0.045359384,-0.009687759,0.005415987,0.013626944,-0.0049289577,0.026141036,-0.008672498,-0.023888636,0.0017696731,0.0026997104,-0.0244385,0.0017852187,-0.014322042,0.049275126,0.03719623,0.010789894,-0.03549298,0.015579406,-0.011834323,0.036457274,0.017693888,-0.008212257,0.038046386,-0.007779468,0.0033407807,-0.008501805,-0.047442902,0.04081321,-0.012373269,0.0310863,-0.0012276061,-0.04286276,0.036614385,-0.0010129586,-0.023397004,0.03463297,-0.011984456,0.04158913,-0.049410976,0.025974404,0.006609954,-0.007452082,-0.04343238,-0.036205888,0.0045779236,0.01545817,-0.035605203,0.044135664,-0.027612949,0.024882104,0.009236813,-0.039385796,0.018543031,0.028108466,0.028730977,0.046316925,0.03846104,-0.03989314,0.044304166,0.037836697,-0.044683088,0.0035948977,0.04444832,0.020861376,0.018892873,0.03902023,-0.040436544,0.015365709,0.019677985,0.032353345,-0.041182555,-0.021399904,-0.02769494,-0.038461793,0.015112821,0.034064483,-0.031778477,0.018905822,0.026395824,-0.013896264,-0.00284319,0.01705077,-0.021296715,-0.019442989,0.0048774704,-0.0338604,-0.036597263,0.038415555,0.03785875,0.0011360273,-0.046723463,0.034587894,0.007891297,-0.02197975,-0.025049508,-0.0026081093,0.02215198,-0.0019793399,-0.042378854,0.044649135,0.041863766,0.030772757,-0.023689676,0.021938775,0.035114493,-0.0058251247,-0.035060406,0.013085891,-0.005583238,-0.0336228,-0.02223363,-0.044848382,-0.031802762,0.021371637,-0.04688511,-0.016386248,0.03514159,-0.03148999,0.048530135,0.025089849,-0.040404655,-0.033383146,-0.042650748,0.004840158,-0.016911805,0.025828067,0.04506049,0.0026280284,0.0049617514,-0.0025165193,0.020420078,-0.014574993,-0.023162616,-0.01996777,0.017619919,0.039865676,0.011654425,0.047383916,-0.043003883,0.027337778,-0.03027599,-0.0026152357,0.034384135,-0.016424455,0.0008414276,-0.036793757,0.011795558,0.039079394,0.031464484,0.02127022,-0.029097391,-0.020611657,-0.032210484,-0.043524623,-0.033619665,0.0064476617,0.01653837,-0.03182559,-0.04548073,0.0052044876,-0.024424493,-0.005091727,0.0070185773,-0.029584706,0.0013563633,-0.0089242235,-0.00052852556,-0.028048862,0.006410349,-0.031917848,-0.038645875,-0.013473321,-0.03673484,0.017959107,0.038999546,-0.042141236,0.02530611,0.0365819,0.011823095,-0.024868323,0.024876896,0.015837494,0.037069585,-0.024280464,0.03658283,0.014850106,0.003949415,0.0043865554,0.04963061,-0.037502002,0.028851364,-0.024242235,0.043160845,0.014787007,0.005656909,-0.007587634,-0.04984493,0.026695695,0.011308182,-0.0127001405,-0.0036745444,-0.0028169043,0.029210139,0.017725777,0.046413373,-0.024143053,-0.016765762,-0.029227866,0.034325566,-0.028941453,-0.000969626,0.0054840334,0.014971111,-0.022170378,-0.045098532,0.049660195,0.049986634,-0.043890357,0.04605219,0.022593047,-0.041490413,0.033666085,0.043769848,-0.046128143,0.043103468,0.020281505,0.034118902,0.0015330799,0.037102167,-0.011982538,-0.025321854,-0.023758246,-0.0055091865,-0.0001171343,-0.0308177,0.046508644,0.004508555,-0.04117012,-0.015149988,0.04427519,-0.006608747,0.033132825,0.035298612,-0.0148768425,0.041940596,0.042195473,-0.017292596,0.040306296,0.035470996,0.021794688,0.024238873,0.0459829,-0.044442486,-0.04620868,0.030937884,-0.045729697,-0.0051533096,-0.013276301,-0.025258863,-0.04207643,-0.023045743,-0.031125462,0.022310983,0.01130458,-0.007118501,-0.016391598,-0.048849072,0.025540087,0.013778936,0.029797588,0.02514631,-0.034581352,-0.004150115,0.00993526,-0.012339998,0.0115803,-0.0148376,-0.02792033,0.027496073,-0.046203017,-0.04363468,0.015626442,-0.031726375,-0.044672847,-0.02546295,-0.03075831,0.03493661,0.028247263,0.013657916,0.049437534,0.0021974072,-0.009041451,0.016135518,-0.03125714,0.009749997,-0.02641474,0.019151453,-0.032760337,0.04553247,-0.0016871206,-0.044570625,0.024355914,-0.008291412,0.048402023,-0.04422958,0.008680247,-0.0010977164,0.04485588,-0.030360175,0.01764479,0.048318412,-0.017440189,0.0196581,0.011701096,0.009179436,0.043740418,-0.042612948,0.045350205,-0.018091418,0.00014487654,-0.020563794,-0.0099852905,-0.015282609,-0.021342624,-0.022660006,0.044987325,-0.035680495,-0.023589253,-0.0406669,-0.030536413,0.018924665,-0.0010926351,-0.0002526641,-0.029546632,0.046537105,-0.028997375,0.0061552636,0.039472047,0.034722995,-0.0219759,-0.0064368136,0.025954608,0.016977023,0.02129269,-0.03829168,-0.025590528,0.018743206,0.018939558,0.04415146,0.015023354,-0.0347587,-0.02054347,-0.019418394,0.026665974,-0.03324701,-0.028911948,-0.01135366,-0.026926542,-0.04053552,-0.016025506,-0.039498545,-0.012110807,0.03632338,0.0020971186,0.03875493,-0.0013502464,-0.023534013,0.0046580806,0.045900855,-0.024689233,-0.037683107,0.017137159,0.014566097,-0.024989475,-0.0099403635,0.02493539,-0.014094196,0.034050655,-0.026256753,0.007677842,0.025447939,-0.03435241,-0.0020603165,0.037710678,-0.002163697,0.04326259,0.013046924,0.013981793,0.011726726,-0.039135646,0.009286761,0.028822783,0.026789535,-0.01582732,-0.011344731,-0.027575826,0.0072250143,-0.04100089,0.024008814,-0.024795627,-0.021690417,-0.008205701,-0.042353537,-0.030152654,-0.026922775,0.0022446997,-0.00918312,-0.03109256,-0.048348393,0.0023999438,-0.029906953,-0.0070298314,0.032089327,-0.039833307,-0.04594144,0.03229407,-0.037063934,-0.014785707,0.003105294,-0.03505256,0.024410453,0.025551308,-0.0055962317,0.008148946,-0.019567752,0.045956854,-0.028835416,-0.04633249,0.015929487,-0.02731489,0.040982272,0.030813444,0.028035495,0.016813826,-0.010569859,0.007057309,-0.0233464,-0.011848271,-0.03577902,-0.048486125,0.044195328,0.019632462,-0.042786002,-0.038338482,0.011528503,0.032342527,0.042525712,-0.04610436,0.0089308135,0.012137223,0.021185402,-0.040016294,0.045003977,0.023425352,0.046344187,0.036790777,-0.02561636,0.02105968,0.035370503,0.016108584,-0.042613197,-0.03974117,-0.017056238,-0.04628333,0.040889,-0.013050519,-0.010655832,-0.032846726,0.029255059,-0.031417347,-0.036800645,0.012122534,0.044999126,-0.013649512,0.049653795,0.03417028,-0.028749168,0.009858228,-0.04905975,-0.038084865,-0.040897667,0.04990298,-0.04855615,-0.0042642467,0.005898703,0.009429146,-0.023077106,0.0123538375,0.037573766,-0.00067211315,0.025725748,-0.044163216,-0.047186017,-0.036885045,0.01644018,0.04722959,-0.027268661,-0.0040565953,-0.03964766,-0.04698045,0.023583997,-0.0036825165,0.024618138,0.019682381,0.041351166,0.0485533,0.008319996,-0.011891831,0.023815405,0.028559875,0.0074698925,-0.023705518,-0.01760472,0.028272856,-0.032359794,0.00073807314,0.036017787,-0.019406332,-0.021262646,-0.04951669,0.041043986,-0.013912834,0.043994073,0.041597273,0.037563052,0.04177555,-0.03539133,-0.03797703,-0.0487713,-0.015698433,0.010927118,0.007696368,-0.014440142,-0.015010975,0.014890041,0.024698619,0.037640978,-0.023307323,-0.029429687,0.04868791,-0.032517053,0.009954751,-0.031425156,0.042739216,0.034167204,-0.031491328,0.013050724,-0.044605102,-0.0031350479,0.036390927,-0.006253086,-0.018636514,-0.0025651343,-0.004625093,0.024651136,-0.014313422,-0.0132222995,0.014010552,0.03166652,-0.020881891,0.013859641,-0.007005643,-0.0014423616,-0.019980324,0.0043965355,0.0045451634,0.04551852,-0.047446527,-0.006342888,-0.008963119,0.030000675,-0.04605625,-0.02035687,0.01008711,0.047881614,0.049422156,0.020145807,-0.048311006,0.03701056,-0.021621084,-0.014359809,-0.009464372,0.034386564,0.041739766,-0.03646139,0.025099862,-0.030891215,-0.04461619,-0.020294284,0.01504438,0.049635362,0.005526293,-0.006303765,-0.043817557,0.0077285655,0.041961554,0.029398788,0.012222767,0.04418433,-0.020272482,0.022899214,-0.0005830899,0.0067471378,0.037017014,0.0017301552,0.016026188,0.027995612,-0.0073050484,0.019886915,0.013373163,0.023882914,0.022171807,-0.028211534,0.02227414,0.043862235,0.0031550154,-0.006010402,0.024229314,-0.008266605,0.020996902,-0.045769777,-0.041924417,0.022061292,0.03596581,-0.024924839,-0.03553288,0.04655869,-0.010124635,-0.023668682,0.006814111,0.021348048,0.048938382,-0.027443742,-0.010593105,0.0044169426,0.039210524,-0.0075004473,0.03629377,-0.045276165,-0.010213148,0.0010020621,0.035965707,-0.043287575,0.047618102,-0.02482214,0.026698206,-0.044267155,0.030676011,0.024923418,0.031979192,-0.045916032,0.008095432,-0.0027575493,-0.043913055,0.047910977,-0.020001734,0.012204718,0.03470886,0.011309493,-0.032881342,0.0011727214,0.0295601,0.02432971,-0.039341472,0.03372239,-0.045241762,-0.029283071,-0.013517834,-0.018895734,-6.19404e-05,-0.049279798,0.00022513792,0.036666345,0.01772279,0.047133062,-0.048751738,-0.014846455,-0.012443207,0.040974144,0.017060723,-0.0091865435,-0.020920528,-0.035131037,0.010956753,0.029045377,0.029911581,0.026989494,0.023438964,0.024766076,0.012111247,-0.04852077,0.04773358,-0.009270869,0.020624232,-0.005860828,-0.044126082,-0.016023327,-0.048278797,0.03695153,0.043019984,-0.015585065,0.03192896,-0.03931383,-0.021398664,0.02015325,-0.011636842,0.040554535,0.013227556,-0.01937157,0.009340964,-0.011243105,-0.020386923,0.023334872,-0.049438443,-0.03225398,-0.005744897,0.008880533,-0.015238367,0.019399796,-0.0013613217,0.017229509,0.044172946,-0.042249095,0.01737566,0.03810722,-0.03518797,-0.028132642,0.042808738,-0.0398013,-0.027142346,0.04189143,0.009980179,0.030227792,0.02010231,-0.013151489,0.0127885975,-0.031385697,-0.031337537,-0.021505475,-0.0038812757,-0.016593456,0.03801414,0.01478852,0.027231384,-0.009508312,0.048747633,0.027325299,-0.022548927,0.0032692775,-0.048585415,0.0013078451,-0.039548375,0.0033853278,0.014013115,0.042571414,-0.024056017,0.005802691,0.018763375,-0.032362655,-0.010914445,-0.029568959,-0.007754147,0.018054653,-0.036972415,0.027688768,0.0012032278,-0.02395475,-0.040803753,0.037810896,0.004566621,-0.03632729,0.028216008,0.029156532,-4.5586377e-05,-0.009692192,0.008220434,-0.038565625,0.044889215,-0.020037485,-0.03433253,0.028974209,-0.0013497584,0.039910365,0.017435793,0.03735627,0.025532734,-0.036535226,-0.037962485,0.004549455,-0.040262233,0.02937496,0.020189252,-0.008384444,0.0007808916,-0.030786192,-0.04656514,0.007755339,-0.00873835,0.024854194,0.048186723,0.008037232,-0.022911454,-0.04190266,-0.025740648,0.005688727,0.017329369,0.023110364,0.03534286,-0.04203714,-0.0052971467,-0.0207528,-0.013044991,0.036315013,0.03947598,-0.0032715313,-0.010118723,0.032697443,-0.0127156265,0.018122721,-0.036138464,0.013236415,-0.03579644,0.045370247,0.027243521,0.017071474,0.04378363,0.024377298,0.03435305,-0.006018173,0.015359905,0.007248424,-0.017044652,-0.042674184,0.034041133,-0.0033947453,0.03302255,0.004524052,-0.026385248,-0.0034850463,-0.028760934,0.036331918,0.041154508,0.008113168,0.033021513,-0.024034047,-0.023804938,0.04848827,0.024898533,-0.020418668,-0.0075807795,-0.03379955,-0.032110117,0.042282928,0.021559682,-0.02759031,-0.042322125,0.022312034,0.009275388,0.002996482,-0.006892763,-0.02804104,-0.0049370043,0.028933559,0.046462942,-0.0028892532,-0.01869303,-0.039891087,-0.041769408,0.047248427,0.033839013,-0.043473687,0.03883234,0.013696816,0.040052917,-0.006325137,0.029979896,0.04071981,-0.0037881732,-0.049206268,0.021578226,-0.014283575,0.04848775,0.04841118,-0.0047135353,-0.049879767,0.044468965,-0.034513928,-0.04857389,-0.0365664,0.046054017,-0.0001892224,0.044229995,0.02997749,0.0115348585,-0.03446276,-0.038190424,-0.017196156,-0.026431823,-0.010033824,-0.002172757,0.005474638,0.011008371,0.021424484,0.048760142,0.04051814,0.022169802,0.0006402135,0.016096417,0.025899637,0.0018931851,-0.026172245,-0.006831359,0.004143141,-0.04487685,-0.012474358,-0.0042613037,0.007824171,-0.027538657,0.017096374,0.033041906,0.014461029,-0.035948683,0.04780549,0.0016667731,-0.009849809,-0.04472455,0.018157553,0.020526003,0.00584222,-0.049345482,0.026338343,0.029058266,-0.01875794,0.010790635,-0.038963187,0.013846803,-0.023200154,0.04196615,0.023611251,0.0081352,0.038375746,-0.011459231,-0.0023574121,-0.044345796,0.034947004,0.01075406,0.020511482,-0.03822738,0.022122983,0.00071692467,0.028939333,0.04315685,0.04764313,-0.002912186,0.02329253,0.025791552,-0.00062655285,0.035697926,-0.036296654,0.04272789,-0.034495663,-0.014415313,-0.01693337,0.014159743,0.021068823,0.015112486,-0.040859163,-0.0029687285,-0.025358224,-0.04148115,-0.04669081,-0.014710259,0.0049016364,0.0274196,0.047652196,-0.015086066,0.025684688,-0.049068164,-0.006978236,-0.035044897,-0.020169247,0.016117718,-0.013131451,0.040209603,0.026156392,-0.006582953,0.015831899,-0.048589706,0.040027905,0.036015306,-0.02577511,0.037960757,0.023093905,0.04124968,-0.0394647,-0.024976898,0.007463824,0.045167815,-0.014349185,-0.01172496,-0.0040143356,0.010035656,-0.009512581,0.044336412,0.011522435,-0.01670115,-0.036729634,0.04953226,0.04576968,-0.003327988,-0.01464634,0.0131150745,0.034023646,-0.010751404,-0.03485322,0.01823156,-0.014832009,-0.02974552,-0.04757402,-0.012292683,0.04135405,0.04343461,0.008201253,-0.0062421784,-0.047149397,0.03545505,-0.03295058,0.0022660121,0.0038430914,0.029742789,0.019518565,-0.023185348,0.04947454,-0.027674913,0.0254349,0.00235641,0.039362494,0.005014479,-0.032474674,0.011182427,0.018789534,0.026871745,-0.026894344,-0.0053865314,0.0058775656,-0.012589883,-0.02986443,-0.021848882,-0.010348201,0.023544673,-0.03907188,0.016741682,0.0025957823,-0.045708396,0.028753925,0.017459776,-0.016926814,0.032947447,0.023685161,-0.009155512,-0.005512845,0.03328638,-0.022247171,0.03944954,-0.013152443,-0.0045778155,-0.038017333,-0.03417971,0.0013538487,0.04305954,0.025872696,0.04424944,-0.04835855,0.043728594,0.033098545,-0.039053403,0.031635527,0.0009332076,0.020692002,-0.033809505,0.008322619,-0.022600401,-0.016143572,0.011360429,-0.023373116,-0.023239696,-0.03584764,0.027412783,0.027728248,0.02036241,0.019055668,0.033503238,-0.041049935,-0.029438138,0.027482364,0.007910956,0.03649194,0.01783431,-0.0037060492,0.017755318,-0.042642284,0.0069298856,-0.0026514418,0.035687614,-0.012104131,0.015441272,-0.039522637,-0.017370999,0.013977971,-0.036998965,-0.00701914,0.043565724,-0.045159604,-0.022400593,-0.00028110668,-0.012568913,0.017033007,0.048580732,0.0017365105,-0.024006797,-0.009071063,0.022724677,0.035390344,0.03910866,-0.019845093,-0.0053167455,0.041108523,0.0037106648,-0.02101065,0.005712986,0.032458577,-0.04454125,-0.015214395,-0.01139351,-0.04314759,0.00544877,0.022327196,0.016376946,-0.028177643,-0.0054738894,0.041025307,0.039272223,0.029800225,-0.045591164,-0.041407775,-0.0154187195,0.029144835,0.010433424,-0.0035149343,0.015828338,-0.0048634894,0.0052271113,-5.7518482e-05,0.021017935,-0.046439197,-0.025669742,-2.4616718e-05,0.024533097,-0.014304161,0.031153705,0.012747135,-0.009120785,-0.025904465,-0.022201538,-0.0052959695,0.006781459,-0.03874029,-0.029685749,-0.0067492835,-0.003453005,-0.01069323,-0.021840502,0.006857861,0.008138873,0.021280814,0.010238253,-0.046205092,0.028845165,0.035584953,-0.021996224,-0.0067915916,-0.027293945,0.0011870489,-0.04000021,0.021340583,0.040341187,0.049564514,0.037008513,0.039951835,0.018355515,0.02138323,-0.0121768825,0.04217327,0.049212877,-0.0032798052,-0.017160844,-0.046526458,-0.009952009,0.0023895875,0.041495275,0.033201445,-0.022207296,0.022811975,-0.009439252,-0.030392623,0.023131762,-0.0043629035,0.00057991594,-0.033685163,0.049886797,-0.01242448,-0.009157933,-0.010358084,0.026174638,0.044445764,-0.034431837,-0.017994262,-0.006269075,0.04476923,0.035805117,-0.018014632,0.030818116,-0.0032646284,-0.007717382,0.045103285,-0.014669381,-0.035872422,-0.021557212,0.03046782,-0.004293192,0.03394505,-0.010440491,-0.003128767,0.0156256,-0.047406532,0.013507102,0.01165887,-0.041383088,-0.0015742779,-0.01371466,0.006739594,0.048495177,0.03904554,-0.019578768,-0.007550381,-0.022665251,0.02936573,-0.029481603,-0.00031437725,0.0012637153,-0.0024999492,0.010899771,-0.040964138,-0.0093973875,-0.022262705,-0.026789118,-0.020943964,0.044867698,0.032127444,0.04885545,-0.02364558,0.01766732,-0.023924887,-0.015845966,-0.024810506,0.022317436,-0.0053144693,0.024927307,0.039259944,0.020383988,0.009833753,0.015884962,0.0044795163,0.0047255866,0.036526594,-0.049470473,-0.0019057766,0.022096489,0.028678361,-0.0011726394,-0.04272932,-0.0066251047,-0.044098735,-0.04369874,-0.028278911,0.021767605,-0.0062699914,-0.0372388,-0.022153175,-0.025219394,-0.011807181,0.043076638,-0.039591588,0.011268139,0.03805696,-0.0032753572,-0.012117051,-0.03562231,-0.03695029,0.008239996,0.01323292,-0.029352868,-0.03444892,-0.042073406,0.04704194,0.033972923,0.025025379,-0.03817477,0.03658009,0.030985784,0.022127818,-0.04943916,-0.029788364,-0.04244695,-0.01686456,0.009428106,-0.048404574,-0.049030352,0.018468682,0.02822781,-0.0036925077,0.0445613,-0.04819807,0.007784985,0.048347536,-0.020071661,0.02933978,0.031264607,-0.04614991,0.028329704,0.04392371,-0.025883222,0.0055473223,0.024466228,-0.049518324,0.047402922,0.025161158,-0.012713801,0.036396775,-0.04881189,-0.013979267,-0.028486753,0.04844184,-0.018826509,-0.022228563,-0.03399526,-0.036728133,0.04859234,-0.0003401041,0.0383193,-0.0037402287,0.026782904,-0.012104679,-0.017075397,0.0017599836,-0.0040424243,-0.03933356,0.03502233,0.01116135,-0.01764927,-0.016197633,0.004558958,-0.031842757,0.03482188,-0.025434231,-0.010751784,0.0064984076,-0.040589906,0.027480517,-0.013835408,0.04768722,-0.019808222,0.020917002,0.029368166,-0.04700742,0.034462187,-0.0129027255,0.046273503,-0.02772069,-0.0012139305,-0.03029474,0.025604594,0.04744636,-0.002695404,-0.047270216,-0.04821695,-0.039679445,-0.021879269,-0.011750422,-0.0026702397,0.03978319,0.049960885,-0.001666747,0.01750746,0.021124724,0.03481282,0.027246486,-0.0396067,0.0031725653,-0.011394333,-0.049223136,0.0130480565,0.047302667,0.0110762715,0.031878743,0.028427754,-0.04097724,0.04394709,-0.022710025,-0.013621975,0.0031297095,0.009587526,-0.045164336,-0.0103011355,0.013760831,-0.041327704,-0.046882655,-0.04484675,-0.049308002,-0.04344653,0.002400171,-0.041138567,-0.045372214],\"xaxis\":\"x\",\"y\":[-0.03538581,-0.001630187,-0.008399807,0.028539348,0.0019914024,-0.010849558,0.008379925,-0.025359858,-0.0015943162,-0.020427777,0.03109176,0.049992893,0.020587955,0.049534153,0.016602669,0.045123372,0.022478607,0.03303459,-0.03814696,-0.009169687,-0.048315477,-0.021166623,-0.0328454,0.023986053,-0.036524214,0.035091963,-0.035589743,-0.026839053,0.038754057,-0.0072265863,-0.019003201,-0.048977222,0.044564728,-0.0012332909,-0.043695,-0.048040163,0.03197669,0.018957723,-0.04194782,-0.040581692,-0.027704597,-0.023461306,0.02599765,0.01478957,0.049241353,-0.032220293,-0.033972166,0.03269669,-0.017127715,0.004647564,0.013500992,0.041361462,0.0016333833,0.01336595,0.016921546,-0.042360462,-0.0075088255,0.003636539,0.028441671,-0.0018552765,0.044906568,-0.009853005,-0.0009269938,-0.013338637,0.036096465,0.03303272,0.025476743,-0.016132735,-0.01316645,0.003369771,-0.01414039,0.018799845,-0.039862286,0.010929655,-0.026593173,-0.0022379644,0.03410441,-0.018913735,-0.019050216,0.04446267,0.03790644,-0.02619486,-0.017872322,-0.0027758107,0.04166727,0.012222134,0.00051978976,-0.016548611,-0.0042063706,0.03476197,0.0051492825,-0.048957504,0.010514997,0.005136572,0.026953671,0.028215136,-0.014851809,0.017806318,0.018012296,-0.019748604,-0.023229957,0.047257256,0.049101423,-0.044540968,0.04932532,0.038092855,-0.040751517,0.029427554,-0.0018522367,0.027901482,-0.017232012,-0.03923409,-0.031345166,0.018304896,-0.01872034,0.0010600574,-0.03127698,0.036436204,0.014950696,0.010723375,0.029736925,-0.022299862,-0.013011087,-0.034849953,-0.034484733,0.032213602,-0.041635703,0.0034332648,0.0054870844,0.008772086,-0.027547492,0.03310163,0.022286858,0.045438144,0.03289977,-0.04151721,-0.021601355,-0.03768339,0.045225296,0.03796262,-0.041620053,0.04677887,0.03214785,0.016654465,0.039807964,-0.048462342,0.012265384,-0.0024006478,0.01605675,0.034407962,-0.045155693,0.01394311,0.014392685,0.03273921,-0.03597189,0.04141319,0.009788714,0.034094874,-0.045761432,-0.012652136,0.036963318,-0.0410076,-0.015560091,-0.02573328,0.02498937,-0.046254184,-0.0043916814,0.009405829,0.04994637,-0.032042406,0.04805236,0.046444867,0.04012605,0.013894748,0.022921946,-0.008941434,-0.02674979,-0.013581894,0.00444559,-0.044165697,-0.017887495,-0.00095778704,0.027362194,-0.010756385,0.045463312,0.009040974,0.03565271,0.04374334,-0.03945484,-0.031258605,0.039564338,-0.048783757,0.0025282279,0.0025263429,0.026799705,-0.025095392,0.021219078,0.04910649,-0.009761728,0.017515603,0.038813744,-0.0075734854,0.015733983,0.022929553,-0.046348155,0.03032292,-0.048806455,-0.0063679703,0.013750065,0.0018227473,-0.015192557,0.03459603,-0.010785233,-0.025545025,-0.038969565,0.020489883,-0.02789619,0.015925515,-0.004796721,-0.034821294,0.025624122,-0.021815896,0.04280472,0.030094814,0.0491076,-0.01924324,0.0054465756,0.027637292,0.032181907,-0.0040562265,0.0011690482,-0.03179399,0.009194087,-0.038460217,0.0371336,0.043570805,-0.02804823,-0.003379859,0.04695067,0.008743107,0.021481242,-0.008132197,-0.012636267,0.019424211,-0.014995635,0.00025909021,0.01352581,0.040175352,0.012546811,-0.026093805,-0.047173988,0.009049285,-0.0017643087,0.026646305,-0.026566112,-0.024162387,-0.024604416,-0.04187596,0.025783028,-0.011760939,-0.039452516,-0.035385884,-0.019964576,-0.028361583,-0.024048043,0.009136416,-0.0014415495,0.015161622,0.0059213266,-0.02359786,0.04810215,-0.01036606,-0.04772791,-0.03542123,-0.026824225,0.025057558,0.036505055,-0.03514416,0.046361674,-0.0038161762,0.0004439354,0.021481086,0.034814645,-0.038329948,0.0108425245,0.047521327,0.045004252,-0.025457311,0.019348267,-0.027314568,0.014510278,-0.013288654,0.0039245114,0.023885835,0.029001687,-0.021696389,0.017208364,-0.0015793443,-0.031817935,-0.048361506,0.002902139,0.04400355,-0.029710686,0.004493095,-0.038909506,-0.034940563,0.016842153,-0.015585326,0.040391747,0.039415065,-0.007919215,0.0049592257,-0.0106133,-0.04950092,0.01907343,0.015772056,0.011789478,-0.04812577,-0.027067268,-0.010999717,0.020653058,-0.00051290914,-0.015885044,-0.010414302,0.02879205,0.039691757,-0.046087157,-0.032647885,0.048267137,0.042906735,-0.012738548,-0.0019086599,-0.035569705,-0.014588334,0.031356204,-0.0073224306,-0.026757145,0.033436563,-0.009082973,-0.02415824,0.031788003,0.042982746,0.03356627,-0.027339613,-0.015435588,-0.02666911,-0.01839938,0.044767823,0.00056296587,0.022154462,0.044760134,-0.02982024,0.020469893,0.014208686,-0.0009926669,0.037356745,-0.0118366,0.0035726056,0.03850789,-0.0053819194,-0.030104125,-0.03052274,0.027542446,0.0063191056,0.03777394,0.04533801,-0.04919052,-0.017358672,0.032505225,0.04879869,0.017481934,-0.027679121,0.015358757,-0.0045575984,-0.030540932,-0.023278713,-0.047921527,0.027579535,-0.022828449,-0.022389114,0.03973439,0.028845992,0.007923435,-0.035340976,0.008006562,-0.0363675,-0.048034467,-0.039626956,0.014019478,0.0018696561,-0.0054659247,-0.041437805,-0.03863306,-0.039697576,-0.043512322,0.04380146,-0.04380678,-0.03886807,0.034619544,-0.03514099,0.007571101,-0.038539875,0.039799165,0.022793982,0.01351222,-0.048420202,-0.023631895,0.047211204,-0.0437179,0.028941695,0.019853119,0.0314389,-0.011136722,0.018293533,-0.007909797,0.0357227,0.046815995,0.0419896,-0.043500673,-0.022532249,0.03633709,0.02814925,0.018714037,-0.029414332,0.049118068,-0.04726676,0.007626213,0.02333207,0.03802662,-0.02986914,0.0053340197,-0.03460381,0.04255477,0.011999927,0.034108374,-0.019269764,-0.016697,0.014573444,0.022758547,0.02045441,-0.046108007,-0.020173848,0.039276037,-0.00953554,0.030072954,0.0010681376,0.044377636,-0.042001117,0.015493263,0.016324017,-0.00782007,-0.027291382,0.036860798,0.003948748,0.022284437,-0.031147504,0.020799149,0.011447869,-0.044871178,0.044825222,-0.00440545,-0.041568972,-0.04845618,-0.043746676,0.042165328,-1.6819686e-05,-0.020727504,-0.035945524,0.030572776,-0.020628596,-0.03960979,-0.026514733,-0.026348365,0.028053131,0.028670777,-0.038367916,-0.0048033223,0.011013828,-0.03635297,0.034131896,0.009034239,-0.025921047,-0.03244084,0.019252542,0.022252891,0.0131380595,-0.040768407,0.006560646,0.009698261,0.015205655,0.024997089,0.03449711,0.036882285,-0.00045169517,0.01887108,0.032152895,-0.04448123,-0.00095715374,-0.018191803,0.012693275,-0.008509971,-0.008379806,-0.038915623,0.027346496,0.014320862,0.012101255,-0.04371146,0.0005248897,0.04123384,-0.04461166,0.021079544,-0.0074451193,-0.019900918,0.03158318,-0.011613332,0.009684026,-0.036637664,0.00034589693,-0.033109237,-0.017519116,-0.019666588,-0.018622566,-0.042232335,-0.008013606,0.025795389,0.01791067,0.025946867,0.009982657,0.008213293,-0.044151973,0.023268092,0.040089298,0.020333778,-0.04796771,0.0026083589,0.011041034,0.009918906,0.0032368898,-0.019217586,0.04268643,0.003325738,-0.012609482,-0.019273018,-0.04154394,-0.00061462075,-0.048534025,0.0070189238,-0.02313894,-0.019297099,-0.034612156,0.024244998,0.038298097,-0.0031526797,-0.029196536,-0.0053129196,0.009823419,0.0043793805,-0.021370757,-0.040810905,-0.047478773,-0.026906038,-0.0047554746,-0.044091966,-0.043498885,-0.020200646,-0.03950281,-0.0048235655,-0.03070221,-0.0036917552,0.02536707,-0.016396988,-0.045058478,-0.01962917,-0.049814533,-0.030736102,-0.0008382574,-0.0026121028,0.018439677,-0.03457395,-0.016981922,-0.02946092,0.04011512,-0.014767062,0.031178858,-0.036709737,-0.013022233,0.024753738,-0.007953655,0.021635544,0.013440657,0.010696612,-0.027768886,-0.030732965,0.026842784,0.045482922,-0.022256792,-0.031412352,0.03410131,-0.029284526,-0.029644608,0.027266767,0.015911225,0.025249276,-0.012819458,0.0042496324,0.0359515,-0.019983782,-0.03181689,0.048659924,-0.00810479,-0.014584839,-0.03778138,-0.010023691,-0.04502758,0.0066196695,0.047676753,-0.03834002,0.028524961,-0.044436384,-0.009550095,-0.0043484345,-0.0070092566,-0.04622364,0.047324385,-0.0034053922,0.046652105,0.007073533,0.021374177,0.0066525824,0.012773048,0.010621082,0.030641686,0.039524738,0.041405585,0.00013045222,0.03557055,-0.016337954,0.01548567,0.048887853,-0.033946656,-0.03277551,0.03919215,-0.00255543,-0.049126744,0.04320887,-0.04812318,-0.0152471885,0.0162169,-0.02497915,0.016650904,0.039909754,0.047030244,-0.027484441,0.018266689,0.03350086,-0.015897572,-0.045572996,0.031177212,-0.033292033,0.012746099,-0.031362846,-0.012440264,0.047283027,0.03387196,0.04259063,-0.043142118,0.023140732,0.03894249,-0.0120769255,-0.009683777,0.00020865351,-0.043454874,-0.04046037,0.02927861,-0.032904603,-0.024173988,-0.0034464113,-0.015791167,0.00014341995,0.01954582,-0.028638935,0.004548263,-0.011549197,0.019473162,-0.009152483,-0.017442703,0.026219297,0.010347702,-0.036419712,-0.0047018044,-0.047455218,0.004224371,0.025269333,0.020671356,-0.01922195,-0.022570645,-0.0023996122,0.011181854,0.0036020763,-0.032553304,-0.02512852,-0.029424107,-0.02215662,0.0002319701,0.03302702,-0.02008921,0.0039130934,0.001901187,-0.04642546,0.024780784,0.019907739,-0.032427706,-0.018512748,-0.015513219,-0.04365299,-0.04920416,-0.042777028,-0.035837986,0.027518157,-0.011135984,0.014370803,-0.02569939,0.04141975,-0.019766808,0.00836464,-0.03315957,-0.034976088,0.02400795,-0.022355605,-0.04751394,0.0072215684,0.022057537,-0.017011978,0.025731195,0.008031774,0.045299742,0.03913418,-0.004208911,-0.008476306,0.04235054,-0.011700381,-0.0026487708,-0.00037445873,-0.007535219,0.035515573,-0.038116466,0.030742351,0.011494838,0.019236375,0.042581055,0.0017513521,0.0073859915,0.018955063,-0.048182964,-0.040698506,0.004026424,0.0075688846,0.036318157,-0.010938466,0.03581809,0.009990383,0.034626056,-0.02287339,0.032520656,-0.005130671,-0.027726913,-0.029795898,0.0075549595,0.006538011,-0.044049393,0.004693318,-0.035023846,-0.044048097,-0.044108417,-0.03200622,0.042385522,0.049992654,0.03212816,-0.03280296,0.042602275,0.03177831,0.023328077,0.0027690642,-0.03793498,-0.016047157,0.03209771,-0.017069805,0.049523894,-0.01173513,0.01383451,-0.011069618,-0.002581656,-0.018589746,0.042662885,0.048987452,-0.042414714,0.0026346557,-0.027385676,-0.012642037,0.022258725,-0.049489643,-0.0063235536,0.0034755357,-0.01929009,-0.006611787,-0.006540917,0.03146864,0.009218432,-0.042376067,-0.012743045,0.025325622,-0.008646451,-0.008074295,0.01451746,-0.040444255,-0.04614619,-0.006823968,-0.010482945,0.039958384,0.049543563,0.037368502,0.026196633,0.03921261,0.047182653,-0.01808555,-0.031259812,0.034418616,0.02903657,-0.048041523,0.031676006,0.0010183342,-0.024620403,0.00038731098,-0.03598386,0.040930476,0.017273929,0.044538047,-0.045784485,0.013223138,-0.03181632,0.030802656,-0.02058872,0.012924943,0.044345822,0.044069532,0.04370005,0.011385024,0.003788434,0.020087983,-0.025086796,-0.029700791,-0.016138516,0.033378843,-0.031193245,0.04786053,-0.009767901,-0.036249112,-0.041888427,-0.04617287,0.032076363,0.013571668,0.016898338,0.022852208,-0.025884045,-0.039944936,0.034207705,-0.00523597,-0.03863863,-0.01981467,0.042936634,0.019211624,0.009292651,-0.043722272,-0.004435826,-0.019102156,-0.029951025,-0.021737266,0.021717895,-0.043437313,0.03244212,-0.048258103,-0.042253207,0.025467407,-0.018537857,-0.04173554,0.017000865,-0.014506996,0.038012777,-0.0123819485,-0.022198474,-0.0051147453,-0.015284717,-0.019557787,-0.045560002,-0.03875004,0.022929918,-0.013205089,0.045804325,-0.023420775,-0.015959036,0.030363444,0.026117135,0.041197803,-0.032189596,0.021736775,0.04602233,-0.046278965,-0.01796005,-0.0010353103,0.009594284,-0.003794752,0.0014477596,0.03547067,-0.03200058,-0.031637445,0.005982615,0.009440146,0.041803125,0.04065538,0.03998394,-0.044413984,-0.029348958,0.034208808,0.019430663,0.034585048,0.031498764,0.028842974,-0.037190296,0.048659775,-0.022092033,0.045956302,-0.031982996,0.003988564,0.016069878,-0.011580873,0.017379533,-1.7799437e-05,0.008682214,-0.0015261993,0.00089795515,-0.03439621,0.022622693,0.04935379,-0.0071012974,-0.013325274,-0.015178014,0.022000048,-0.0076520927,-0.04561491,0.041664008,-0.030572617,-0.019650651,0.032223318,-0.026699876,0.023844663,0.013077233,-0.011840798,-0.029425932,0.023602393,0.008694839,0.032759693,0.017457101,-0.048897196,0.044044364,0.006865371,-0.019130422,-0.0047927387,-0.007862043,-0.031527698,0.023793612,0.011852466,0.03101487,0.003349971,0.00180123,-0.03505962,-0.007111527,-0.025776362,0.030220639,-0.0012034886,-0.0006564036,-0.019484056,0.048531417,-0.03221772,-0.009845294,0.0039558783,0.016261648,-0.038677238,0.00022555515,-0.02968874,-0.0042876117,-0.022079075,-0.046244096,-0.008446135,0.0013258681,0.044450764,0.016698364,-0.018257927,0.017015923,-0.026739955,-0.048550572,0.0064151175,0.032483246,0.028423462,0.028973926,0.0067281947,-0.039213777,0.027296726,-0.016235758,-0.028417861,0.008874346,-0.026862478,-0.042185772,-0.032782875,-0.043549526,0.039816167,-0.02859285,-0.00399499,-0.02723496,-0.049864687,0.034348797,-0.013270605,0.01680598,-0.0061947107,0.039764013,-0.024815822,0.049217474,5.9057027e-05,0.016494904,0.0026887767,0.012096297,0.036395613,0.044902746,0.017404046,0.028205547,0.020036664,0.012308527,-0.003726244,-0.037190318,-0.011895824,-0.0474944,0.044971596,-0.027966952,-0.032028437,0.005557429,0.043930102,0.046537388,0.04744016,-0.0062122233,0.03763696,-0.0059207454,-0.03862139,0.017470408,0.042700004,-0.035625983,-0.0310848,0.049303677,0.0382157,0.047552895,-0.027980257,-0.030727983,-0.046797168,0.041476514,0.0077324025,-0.034234274,-0.044208944,0.029404294,-0.018558063,0.02966882,-0.026131654,-0.019842505,-0.029368937,-0.028255546,0.009131778,-0.038162697,0.0219105,-0.037193287,-0.048874725,-0.000794936,0.009097874,0.017589245,0.0012415275,0.02468339,0.016375113,-0.03094709,0.040945265,-0.036055185,0.030885164,-0.02435472,-0.02609905,0.0069447383,0.02999821,-0.034101296,-0.006052114,0.04656938,0.04295403,-0.026867295,0.033753265,-0.044487216,-0.03822235,0.0069005117,-0.0012918226,0.044327665,0.037029374,0.0048870333,0.02385259,0.047257077,0.025610391,-0.012247145,-0.0019349456,-0.049669206,0.028310332,-0.03475944,0.041152384,-0.019851673,-0.045175888,0.042429637,-0.014119137,0.020707857,0.0035287626,0.01820964,-0.04766587,0.04554415,-0.048109163,0.018918347,0.03137641,-0.04212154,0.013276685,-0.006799042,-0.009525739,-0.016637288,-0.0017886274,0.03785309,-0.0018004291,-0.0041638985,0.03802992,0.00916487,-0.045828413,-0.012233555,-0.035227537,-0.041785277,0.030467357,0.0056339726,0.015358377,-0.036403634,0.03103317,-0.029237974,0.0034691207,0.040078152,0.03467847,0.03550378,-0.030854702,0.029545035,0.0021187887,0.03672793,0.037438083,-0.04275874,-0.015925884,0.006729137,0.030130971,-0.040498592,-0.025563538,-0.0008424632,-0.047353365,0.03254739,-0.004029464,0.0126607455,0.008076489,0.022301044,0.041058574,0.0056658983,0.008573137,-0.020009017,-0.02676729,-0.03267721,0.021250274,0.03963231,0.029987048,0.030561458,0.049813155,-0.029285705,0.026277568,0.030861903,-0.027160859,-0.04752959,-0.00077744573,0.009726394,-0.024767721,0.04598299,-0.044441868,0.04464427,-0.015439343,0.007980514,0.03373084,-0.018681157,-0.03370111,0.0038562194,-0.04339875,-0.037392367,-0.04115226,0.008454122,0.016093958,0.018869605,-0.034764685,0.040848162,-0.013768863,0.009855676,0.038463745,0.027220916,0.011286341,0.0042341724,0.008406173,0.028915491,-0.027855206,0.021479655,-0.04305278,-0.03983115,0.039264787,-0.034183525,0.00851668,-0.033453323,-0.0009447932,0.021161225,-0.0037897453,0.049711887,0.040913764,0.025797736,0.011924289,0.019015264,-0.04986577,-0.034469474,-0.0132368095,-0.035004042,-0.04989424,-0.037761413,0.027665343,0.014662754,-0.038096607,-0.0057237856,0.016778138,0.020665992,0.01895262,0.032384846,0.04628906,-0.033172894,0.02856635,0.044437494,0.023172248,0.002215255,-0.029802203,0.038070176,0.025083307,0.025618885,-0.018080473,-0.005360998,-0.027527535,0.0048206225,-0.04238515,0.03428291,-0.025059177,0.026668813,-0.0056008585,-0.018066,0.040173326,0.0425673,0.003471434,0.011275113,0.044138942,0.019733641,0.01766261,-0.040919818,-0.018793141,-0.044172276,-0.03434868,-0.0045778863,-0.044579484,0.026568618,0.02029464,0.02712408,-0.040444862,-0.031006766,-0.015793346,-0.027959276,0.04917189,-0.02645346,-0.012894236,0.04745171,0.02615906,0.024585534,-0.029530335,0.040709745,-0.04533043,0.0011192672,0.018712822,0.011896741,0.021710206,0.00481702,-0.0026174672,-0.023215521,0.010892857,-0.013463236,-0.0496578,0.045226146,-0.016748033,-0.03467846,0.047027636,0.019131232,-0.0098366365,-0.0057761073,0.008665323,0.02262744,0.028793406,0.022253308,0.0412595,-0.022819674,0.028745178,-0.017736148,0.026485477,-0.018662214,-0.035428047,0.015374269,-0.040106904,0.0070403926,0.028865878,0.011797965,-0.046572544,0.029497016,0.013380978,-0.017308332,0.0036131628,0.043055203,-0.0016980991,0.03133286,-0.015097737,-0.037635934,0.034834687,0.0016994588,-0.025976276,-0.043517422,-0.026159478,-0.023314321,-0.04835532,0.039069656,0.026133511,0.0039719716,0.018629465,0.020726431,-0.03929944,-0.029010748,0.030914556,-0.026312578,0.030532662,0.024477575,-0.006262578,-0.01405827,-0.023489773,0.017735753,-0.009857237,0.026999917,0.008734595,0.011155952,-0.0046431646,0.025313128,0.00064186007,0.034259845,-0.0038583055,0.021242622,-0.016426135,-0.009070791,0.015674029,0.028862324,-0.029169703,-0.043717887,-0.028390408,0.03706299,0.0002223365,-0.010422826,-0.024644375,-0.01682042,-0.00809915,0.021554101,0.045118894,-0.012042977,-0.023451973,0.023463417,-0.0035184398,-0.0015472993,-0.014702488,-0.009370934,0.02947605,0.014423575,-0.021558845,-0.025848115,-0.04964563,-0.015157104,-0.04856136,0.030706536,-0.032162964,-0.04686885,-0.044217564,-0.014373206,-0.010644294,-0.0002110377,0.025251377,-0.049134146,0.04570451,0.008519731,0.040560354,0.045944963,0.029148664,0.008971788,0.03934342,-0.0066525936,0.018484201,0.011660218,-0.049391806,-0.0035615787,-0.019012082,0.046055045,-0.042104494,0.024384532,-0.010206543,0.034434926,-0.0052635446,-0.025472188,0.01340225,0.012565207,0.0058870427,-0.031238604,0.030964348,-0.040157758,-0.03513067,0.041848812,0.030054856,-0.01180587,-0.039189517,0.0092577115,-0.035607554,-0.0024839528,0.044088725,-0.01842767,-0.012077786,0.037337158,0.031315457,0.026904117,-0.034241475,0.029508535,0.0076188073,-0.006217491,0.0044027455,0.009673476,-0.047727097,-0.02346517,-0.03291472,0.025932852,0.016270552,-0.04551786,0.0038716793,0.03669328,0.037388947,0.022283066,0.0462876,0.031660285,0.003962137,-0.0142279975,-0.038392138,-0.048283316,0.028576996,0.014446963,0.027067844,-0.015307225,-0.02296014,0.026276741,0.025110211,0.0217386,0.015143644,-0.024636317,0.013405789,0.031966794,0.032301072,-0.0068050623,-0.005530406,0.012236107,0.03310745,0.040938284,0.04971877,-0.01305908,0.0036505088,-0.008979786,-0.0016278513,0.011732139,-0.04938222,0.018637571,0.037054207,-0.042599093,0.028028872,-0.031292904,0.02534442,0.01904824,0.03737456,-0.019351399,0.023500089,0.018014122,0.016762685,0.035920408,0.004767347,0.018293891,-0.019974733,0.008488439,-0.014714312,0.007842373,0.045247864,-0.048370708,-0.03238218,-0.034047864,-0.008325588,0.012270652,0.046153676,-0.0006889105,-0.01658703,0.007116854,-0.023662066,0.0029390827,-0.040686168,0.029725697,0.0011850595,0.031670522,0.00018543005,0.02354158,0.020515371,0.0008110292,0.01915871,-0.0084185,-0.01826749,-0.046562325,0.003739275,0.007139612,0.014037404,0.009661805,-0.035703897,-0.026228046,0.04812732,0.0071333274,0.011691652,-0.0057728887,-0.016319573,0.027665604,-0.025904251,-0.026978958,0.04579917,-0.015049122,-0.00041539595,-0.04487909,-0.03263382,0.014666524,-0.0017483719,-0.0018204935,-0.019025624,-0.047689,0.044133056,-0.025935162,0.02275778,-0.03369949,0.031179596,-0.04014821,0.04365306,0.029001895,-0.038350534,-0.0020822063,-0.030058218,0.02404577,-0.043192923,0.022282746,0.026791144,0.038345065,-0.0031976812,-0.031082654,-0.036588274,0.041204844,-0.04092381,-0.03340932,0.04745741,0.037739348,-0.026867688,-0.049828973,0.010156285,0.046816837,0.04817644,-0.04239106,-0.040899683,-0.04043008,-0.048957814,0.04757824,0.039596085,0.024254095,-0.033384696,-0.03338598,-0.02379538,-0.0173694,0.042437855,-0.04098321,-0.02589984,0.035450112,-0.014842939,-0.025810575,0.036929104,-0.008778907,-0.0043856874,0.028261457,-0.034198,0.0072785504,-0.023104643,-0.012552846,-0.019931901,-0.036751557,0.021178614,0.019148085,-0.020175815,-0.018816948,-0.019194568,-0.03375925,0.021166395,-0.010652173,0.035375606,0.02040762,0.0045692325,-0.03431791,-0.013323188,-0.034113206,-0.033383727,-0.0053074956,0.007770788,-0.029169345,-0.0339093,-0.029370189,-0.027574658,0.014440801,-0.029436385,0.04357462,0.038550284,0.011099648,0.007069122,0.01476771,-0.0329509,0.031948354,-0.032197464,-0.04801735,-0.007968701,0.03526498,-0.027930308,0.0062673315,-0.045553423,-0.012249887,0.043788325,-0.0016725883,-0.016008712,0.049352754,0.046002056,-0.028628994,-0.01960951,-0.022316027,-0.039298832,-0.0066721663,0.032300863,0.04212078,0.012417268,0.035437297,-0.02971375,-0.019888032,0.008401811,0.014541116,0.0016917214,0.0022934303,0.03014839,0.030525114,0.016705941,-0.024167312,0.027771857,-0.017281067,-0.023846114,-0.013123177,0.014231358,-0.037816893,-0.02347598,0.01154542,-0.011544801,-0.026445841,0.00789994,0.0025693178,0.010798704,0.04610319,-0.04491123,0.042908106,0.048875023,-0.008263804,0.046327833,0.04290438,0.02218343,-0.0029936656,-0.023086727,-0.030462695,-0.035106443,0.048451986,0.04506581,0.028876517,-0.016616035,0.045029674,-0.025810922,0.037774,-0.046376027,-0.007209409,0.0038901567,-0.015173294,0.02374876,-0.041917585,0.021343898,-0.023532713,-0.029857278,0.005352389,-0.014200009,-0.037686,0.026163463,-0.043237783,-0.042575028,0.014899362,0.008725084,-0.006898083,-0.015637599,-0.00020647049,-0.012753427,0.00015252829,0.011326589,-0.016826749,-0.045889843,0.023646165,0.01577356,0.02798966,-0.0064511523,0.01711515,0.03952607,0.037091877,0.03958218,-0.014044117,0.023614157,-0.0037661195,0.024211716,-0.016031504,0.001865767,0.037244562,-0.012941003,-0.021592809,0.010761131,-0.04015894,0.01491094,0.006635107,0.02513044,-0.011485554,-0.03280864,-0.008541085,0.043803718,-0.046399485,-0.049976923,-0.036328495,0.033729304,-0.048561573,-0.008088946,0.018626105,-0.029075671,0.043994356,0.016999986,0.049097862,0.00859214,-0.012942255,0.023069207,-0.00054335594,-0.0016893633,0.032349173,0.03227334,-0.03785517,-0.021428848,-0.0062664263,0.025024366,-0.039025627,-0.0037807003,-0.0022076592,0.009590019,0.036141668,-0.029107666,-0.010377526,-0.011624001,-0.0046885014,-0.040669013,-0.048684753,-0.0007562749,-0.048357632,-0.04418824,-0.005250979,0.016106833,-0.02618972,0.045740042,-0.046670057,0.040024612,-0.014479756,-0.04980731,0.006042648,-0.027760947,0.01084584,0.021092702,0.0441718,-0.0056261793,0.004104458,0.04784483,-0.034458708,-0.0407994,0.02679899,0.0080772415,0.0064352974,-0.040959608,-0.018719625,0.04719082,-0.026294637,0.038491677,-0.03027972,-0.00096703693,0.030912284,0.0012125969,0.044780675,-0.04256344,-0.03379084,0.040526677,-0.023492409,0.03521062,0.028660003,0.037119042,0.038944494,0.021570038,0.025621522,-0.0010974891,0.043997716,-0.03908521,0.009527825,0.036219727,-0.04487517,-0.017887235,0.013516907,-0.030664599,0.010057997,0.035017375,0.039776515,0.013200868,-0.019066943,0.042172078,-0.0056916475,-0.03360583,0.021542933,0.027962748,0.023901533,-0.0010632873,-0.036175884,-0.03596922,-0.008857191,0.031986047,-0.04702982,0.039665405,0.03919803,-0.0053322315,-0.040611994,0.045810197,-0.024502529,-0.04547142,-0.031984247,-0.021722853,-0.02176031,-0.030276908,-0.0003176704,0.034092057,-0.013000596,-0.020539617,0.033673946,0.0480578,0.027897026,0.007249344,-0.0007872693,0.011346661,0.012397278,0.036358323,-0.03945645,0.02662481,0.0038389787,0.038852874,0.04122254,0.047687482,0.046325002,-0.03416077,0.036845494,0.021431599,-0.016768895,-0.036535263,0.044492994,0.049375568,-0.013558246,-0.018894685,-0.032861486,-0.029442882,0.010949217,-0.028083539,-0.006286718,0.02240714,0.04406781,-0.0385802,-0.008529104,-0.00798459,0.048501182,-0.02733977,-0.02790643,-0.009449732,0.0020889863,-0.035035253,-0.047496665,-0.019105244,-0.045357894,-0.03084818,-0.025509393,0.029979277,0.044979725,0.034315456,-0.029922808,-0.005019378,-0.03222853,-0.0075223558,-0.007016171,-0.038003255,-0.03982196,-0.034861337,-0.008361924,-0.008581042,-0.026713181,-0.00968653,0.016192984,0.009377122,0.023591328,-0.031188382,-0.0014955178,-0.026950264,0.012476124,-0.040321685,-0.0016228333,0.03464179,0.021713328,-0.03590995,0.045431558,-0.005702328,-0.022128034,0.01964778,-0.0006567016,0.008126318,0.04205123,-0.029906465,-0.033011273,0.017735783,-0.014038764,-0.02695173,-0.006741129,-0.023064792,0.041789982,-0.031011641,0.016091738,-0.026804317,-0.016402744,0.01610693,0.02465799,0.035956804,-0.01586933,0.019377183,-0.043732893,-0.015715599,-0.03157723,-0.031985104,-0.048500385,-0.011153508,0.0068632737,-0.03966421,-0.03237368,0.025395278,0.038662348,0.045931343,-0.03951181,0.041092467,0.035799716,-0.045835044,0.029146861,0.017474424,-0.0402732,0.021472942,0.03824475,0.018005166,0.017349053,-0.043585885,-0.014936648],\"yaxis\":\"y\",\"type\":\"scattergl\"}],                        {\"template\":{\"data\":{\"histogram2dcontour\":[{\"type\":\"histogram2dcontour\",\"colorbar\":{\"outlinewidth\":0,\"ticks\":\"\"},\"colorscale\":[[0.0,\"#0d0887\"],[0.1111111111111111,\"#46039f\"],[0.2222222222222222,\"#7201a8\"],[0.3333333333333333,\"#9c179e\"],[0.4444444444444444,\"#bd3786\"],[0.5555555555555556,\"#d8576b\"],[0.6666666666666666,\"#ed7953\"],[0.7777777777777778,\"#fb9f3a\"],[0.8888888888888888,\"#fdca26\"],[1.0,\"#f0f921\"]]}],\"choropleth\":[{\"type\":\"choropleth\",\"colorbar\":{\"outlinewidth\":0,\"ticks\":\"\"}}],\"histogram2d\":[{\"type\":\"histogram2d\",\"colorbar\":{\"outlinewidth\":0,\"ticks\":\"\"},\"colorscale\":[[0.0,\"#0d0887\"],[0.1111111111111111,\"#46039f\"],[0.2222222222222222,\"#7201a8\"],[0.3333333333333333,\"#9c179e\"],[0.4444444444444444,\"#bd3786\"],[0.5555555555555556,\"#d8576b\"],[0.6666666666666666,\"#ed7953\"],[0.7777777777777778,\"#fb9f3a\"],[0.8888888888888888,\"#fdca26\"],[1.0,\"#f0f921\"]]}],\"heatmap\":[{\"type\":\"heatmap\",\"colorbar\":{\"outlinewidth\":0,\"ticks\":\"\"},\"colorscale\":[[0.0,\"#0d0887\"],[0.1111111111111111,\"#46039f\"],[0.2222222222222222,\"#7201a8\"],[0.3333333333333333,\"#9c179e\"],[0.4444444444444444,\"#bd3786\"],[0.5555555555555556,\"#d8576b\"],[0.6666666666666666,\"#ed7953\"],[0.7777777777777778,\"#fb9f3a\"],[0.8888888888888888,\"#fdca26\"],[1.0,\"#f0f921\"]]}],\"heatmapgl\":[{\"type\":\"heatmapgl\",\"colorbar\":{\"outlinewidth\":0,\"ticks\":\"\"},\"colorscale\":[[0.0,\"#0d0887\"],[0.1111111111111111,\"#46039f\"],[0.2222222222222222,\"#7201a8\"],[0.3333333333333333,\"#9c179e\"],[0.4444444444444444,\"#bd3786\"],[0.5555555555555556,\"#d8576b\"],[0.6666666666666666,\"#ed7953\"],[0.7777777777777778,\"#fb9f3a\"],[0.8888888888888888,\"#fdca26\"],[1.0,\"#f0f921\"]]}],\"contourcarpet\":[{\"type\":\"contourcarpet\",\"colorbar\":{\"outlinewidth\":0,\"ticks\":\"\"}}],\"contour\":[{\"type\":\"contour\",\"colorbar\":{\"outlinewidth\":0,\"ticks\":\"\"},\"colorscale\":[[0.0,\"#0d0887\"],[0.1111111111111111,\"#46039f\"],[0.2222222222222222,\"#7201a8\"],[0.3333333333333333,\"#9c179e\"],[0.4444444444444444,\"#bd3786\"],[0.5555555555555556,\"#d8576b\"],[0.6666666666666666,\"#ed7953\"],[0.7777777777777778,\"#fb9f3a\"],[0.8888888888888888,\"#fdca26\"],[1.0,\"#f0f921\"]]}],\"surface\":[{\"type\":\"surface\",\"colorbar\":{\"outlinewidth\":0,\"ticks\":\"\"},\"colorscale\":[[0.0,\"#0d0887\"],[0.1111111111111111,\"#46039f\"],[0.2222222222222222,\"#7201a8\"],[0.3333333333333333,\"#9c179e\"],[0.4444444444444444,\"#bd3786\"],[0.5555555555555556,\"#d8576b\"],[0.6666666666666666,\"#ed7953\"],[0.7777777777777778,\"#fb9f3a\"],[0.8888888888888888,\"#fdca26\"],[1.0,\"#f0f921\"]]}],\"mesh3d\":[{\"type\":\"mesh3d\",\"colorbar\":{\"outlinewidth\":0,\"ticks\":\"\"}}],\"scatter\":[{\"fillpattern\":{\"fillmode\":\"overlay\",\"size\":10,\"solidity\":0.2},\"type\":\"scatter\"}],\"parcoords\":[{\"type\":\"parcoords\",\"line\":{\"colorbar\":{\"outlinewidth\":0,\"ticks\":\"\"}}}],\"scatterpolargl\":[{\"type\":\"scatterpolargl\",\"marker\":{\"colorbar\":{\"outlinewidth\":0,\"ticks\":\"\"}}}],\"bar\":[{\"error_x\":{\"color\":\"#2a3f5f\"},\"error_y\":{\"color\":\"#2a3f5f\"},\"marker\":{\"line\":{\"color\":\"#E5ECF6\",\"width\":0.5},\"pattern\":{\"fillmode\":\"overlay\",\"size\":10,\"solidity\":0.2}},\"type\":\"bar\"}],\"scattergeo\":[{\"type\":\"scattergeo\",\"marker\":{\"colorbar\":{\"outlinewidth\":0,\"ticks\":\"\"}}}],\"scatterpolar\":[{\"type\":\"scatterpolar\",\"marker\":{\"colorbar\":{\"outlinewidth\":0,\"ticks\":\"\"}}}],\"histogram\":[{\"marker\":{\"pattern\":{\"fillmode\":\"overlay\",\"size\":10,\"solidity\":0.2}},\"type\":\"histogram\"}],\"scattergl\":[{\"type\":\"scattergl\",\"marker\":{\"colorbar\":{\"outlinewidth\":0,\"ticks\":\"\"}}}],\"scatter3d\":[{\"type\":\"scatter3d\",\"line\":{\"colorbar\":{\"outlinewidth\":0,\"ticks\":\"\"}},\"marker\":{\"colorbar\":{\"outlinewidth\":0,\"ticks\":\"\"}}}],\"scattermapbox\":[{\"type\":\"scattermapbox\",\"marker\":{\"colorbar\":{\"outlinewidth\":0,\"ticks\":\"\"}}}],\"scatterternary\":[{\"type\":\"scatterternary\",\"marker\":{\"colorbar\":{\"outlinewidth\":0,\"ticks\":\"\"}}}],\"scattercarpet\":[{\"type\":\"scattercarpet\",\"marker\":{\"colorbar\":{\"outlinewidth\":0,\"ticks\":\"\"}}}],\"carpet\":[{\"aaxis\":{\"endlinecolor\":\"#2a3f5f\",\"gridcolor\":\"white\",\"linecolor\":\"white\",\"minorgridcolor\":\"white\",\"startlinecolor\":\"#2a3f5f\"},\"baxis\":{\"endlinecolor\":\"#2a3f5f\",\"gridcolor\":\"white\",\"linecolor\":\"white\",\"minorgridcolor\":\"white\",\"startlinecolor\":\"#2a3f5f\"},\"type\":\"carpet\"}],\"table\":[{\"cells\":{\"fill\":{\"color\":\"#EBF0F8\"},\"line\":{\"color\":\"white\"}},\"header\":{\"fill\":{\"color\":\"#C8D4E3\"},\"line\":{\"color\":\"white\"}},\"type\":\"table\"}],\"barpolar\":[{\"marker\":{\"line\":{\"color\":\"#E5ECF6\",\"width\":0.5},\"pattern\":{\"fillmode\":\"overlay\",\"size\":10,\"solidity\":0.2}},\"type\":\"barpolar\"}],\"pie\":[{\"automargin\":true,\"type\":\"pie\"}]},\"layout\":{\"autotypenumbers\":\"strict\",\"colorway\":[\"#636efa\",\"#EF553B\",\"#00cc96\",\"#ab63fa\",\"#FFA15A\",\"#19d3f3\",\"#FF6692\",\"#B6E880\",\"#FF97FF\",\"#FECB52\"],\"font\":{\"color\":\"#2a3f5f\"},\"hovermode\":\"closest\",\"hoverlabel\":{\"align\":\"left\"},\"paper_bgcolor\":\"white\",\"plot_bgcolor\":\"#E5ECF6\",\"polar\":{\"bgcolor\":\"#E5ECF6\",\"angularaxis\":{\"gridcolor\":\"white\",\"linecolor\":\"white\",\"ticks\":\"\"},\"radialaxis\":{\"gridcolor\":\"white\",\"linecolor\":\"white\",\"ticks\":\"\"}},\"ternary\":{\"bgcolor\":\"#E5ECF6\",\"aaxis\":{\"gridcolor\":\"white\",\"linecolor\":\"white\",\"ticks\":\"\"},\"baxis\":{\"gridcolor\":\"white\",\"linecolor\":\"white\",\"ticks\":\"\"},\"caxis\":{\"gridcolor\":\"white\",\"linecolor\":\"white\",\"ticks\":\"\"}},\"coloraxis\":{\"colorbar\":{\"outlinewidth\":0,\"ticks\":\"\"}},\"colorscale\":{\"sequential\":[[0.0,\"#0d0887\"],[0.1111111111111111,\"#46039f\"],[0.2222222222222222,\"#7201a8\"],[0.3333333333333333,\"#9c179e\"],[0.4444444444444444,\"#bd3786\"],[0.5555555555555556,\"#d8576b\"],[0.6666666666666666,\"#ed7953\"],[0.7777777777777778,\"#fb9f3a\"],[0.8888888888888888,\"#fdca26\"],[1.0,\"#f0f921\"]],\"sequentialminus\":[[0.0,\"#0d0887\"],[0.1111111111111111,\"#46039f\"],[0.2222222222222222,\"#7201a8\"],[0.3333333333333333,\"#9c179e\"],[0.4444444444444444,\"#bd3786\"],[0.5555555555555556,\"#d8576b\"],[0.6666666666666666,\"#ed7953\"],[0.7777777777777778,\"#fb9f3a\"],[0.8888888888888888,\"#fdca26\"],[1.0,\"#f0f921\"]],\"diverging\":[[0,\"#8e0152\"],[0.1,\"#c51b7d\"],[0.2,\"#de77ae\"],[0.3,\"#f1b6da\"],[0.4,\"#fde0ef\"],[0.5,\"#f7f7f7\"],[0.6,\"#e6f5d0\"],[0.7,\"#b8e186\"],[0.8,\"#7fbc41\"],[0.9,\"#4d9221\"],[1,\"#276419\"]]},\"xaxis\":{\"gridcolor\":\"white\",\"linecolor\":\"white\",\"ticks\":\"\",\"title\":{\"standoff\":15},\"zerolinecolor\":\"white\",\"automargin\":true,\"zerolinewidth\":2},\"yaxis\":{\"gridcolor\":\"white\",\"linecolor\":\"white\",\"ticks\":\"\",\"title\":{\"standoff\":15},\"zerolinecolor\":\"white\",\"automargin\":true,\"zerolinewidth\":2},\"scene\":{\"xaxis\":{\"backgroundcolor\":\"#E5ECF6\",\"gridcolor\":\"white\",\"linecolor\":\"white\",\"showbackground\":true,\"ticks\":\"\",\"zerolinecolor\":\"white\",\"gridwidth\":2},\"yaxis\":{\"backgroundcolor\":\"#E5ECF6\",\"gridcolor\":\"white\",\"linecolor\":\"white\",\"showbackground\":true,\"ticks\":\"\",\"zerolinecolor\":\"white\",\"gridwidth\":2},\"zaxis\":{\"backgroundcolor\":\"#E5ECF6\",\"gridcolor\":\"white\",\"linecolor\":\"white\",\"showbackground\":true,\"ticks\":\"\",\"zerolinecolor\":\"white\",\"gridwidth\":2}},\"shapedefaults\":{\"line\":{\"color\":\"#2a3f5f\"}},\"annotationdefaults\":{\"arrowcolor\":\"#2a3f5f\",\"arrowhead\":0,\"arrowwidth\":1},\"geo\":{\"bgcolor\":\"white\",\"landcolor\":\"#E5ECF6\",\"subunitcolor\":\"white\",\"showland\":true,\"showlakes\":true,\"lakecolor\":\"white\"},\"title\":{\"x\":0.05},\"mapbox\":{\"style\":\"light\"}}},\"xaxis\":{\"anchor\":\"y\",\"domain\":[0.0,1.0],\"title\":{\"text\":\"x\"}},\"yaxis\":{\"anchor\":\"x\",\"domain\":[0.0,1.0],\"title\":{\"text\":\"y\"}},\"legend\":{\"tracegroupgap\":0},\"margin\":{\"t\":60}},                        {\"responsive\": true}                    ).then(function(){\n",
              "                            \n",
              "var gd = document.getElementById('c824b7bd-4821-4dd5-abd6-574a47b4909e');\n",
              "var x = new MutationObserver(function (mutations, observer) {{\n",
              "        var display = window.getComputedStyle(gd).display;\n",
              "        if (!display || display === 'none') {{\n",
              "            console.log([gd, 'removed!']);\n",
              "            Plotly.purge(gd);\n",
              "            observer.disconnect();\n",
              "        }}\n",
              "}});\n",
              "\n",
              "// Listen for the removal of the full notebook cells\n",
              "var notebookContainer = gd.closest('#notebook-container');\n",
              "if (notebookContainer) {{\n",
              "    x.observe(notebookContainer, {childList: true});\n",
              "}}\n",
              "\n",
              "// Listen for the clearing of the current output cell\n",
              "var outputEl = gd.closest('.output');\n",
              "if (outputEl) {{\n",
              "    x.observe(outputEl, {childList: true});\n",
              "}}\n",
              "\n",
              "                        })                };                            </script>        </div>\n",
              "</body>\n",
              "</html>"
            ]
          },
          "metadata": {}
        }
      ]
    }
  ]
}